{
 "cells": [
  {
   "cell_type": "code",
   "execution_count": 1,
   "metadata": {
    "id": "pqjTJSE6ABJV"
   },
   "outputs": [],
   "source": [
    "import pandas as pd"
   ]
  },
  {
   "cell_type": "code",
   "execution_count": 2,
   "metadata": {
    "id": "toBWsVxrAKty"
   },
   "outputs": [],
   "source": [
    "import numpy as np"
   ]
  },
  {
   "cell_type": "code",
   "execution_count": 3,
   "metadata": {
    "colab": {
     "base_uri": "https://localhost:8080/"
    },
    "id": "h5_z-1E7AMKP",
    "outputId": "cd8595d0-64de-4823-e5a9-ee6b026abf30"
   },
   "outputs": [
    {
     "name": "stderr",
     "output_type": "stream",
     "text": [
      "C:\\Users\\Jaison Aro\\AppData\\Local\\Temp\\ipykernel_15844\\2537016213.py:1: DtypeWarning: Columns (2) have mixed types. Specify dtype option on import or set low_memory=False.\n",
      "  df=pd.read_csv('Copper_Set.xlsx - Result 1.csv')\n"
     ]
    }
   ],
   "source": [
    "df=pd.read_csv('Copper_Set.xlsx - Result 1.csv')"
   ]
  },
  {
   "cell_type": "code",
   "execution_count": 4,
   "metadata": {
    "colab": {
     "base_uri": "https://localhost:8080/",
     "height": 947
    },
    "id": "0ElP0gSVAt3s",
    "outputId": "7372d618-7979-4e48-edf5-684ab42b0d0d"
   },
   "outputs": [
    {
     "data": {
      "text/html": [
       "<div>\n",
       "<style scoped>\n",
       "    .dataframe tbody tr th:only-of-type {\n",
       "        vertical-align: middle;\n",
       "    }\n",
       "\n",
       "    .dataframe tbody tr th {\n",
       "        vertical-align: top;\n",
       "    }\n",
       "\n",
       "    .dataframe thead th {\n",
       "        text-align: right;\n",
       "    }\n",
       "</style>\n",
       "<table border=\"1\" class=\"dataframe\">\n",
       "  <thead>\n",
       "    <tr style=\"text-align: right;\">\n",
       "      <th></th>\n",
       "      <th>id</th>\n",
       "      <th>item_date</th>\n",
       "      <th>quantity tons</th>\n",
       "      <th>customer</th>\n",
       "      <th>country</th>\n",
       "      <th>status</th>\n",
       "      <th>item type</th>\n",
       "      <th>application</th>\n",
       "      <th>thickness</th>\n",
       "      <th>width</th>\n",
       "      <th>material_ref</th>\n",
       "      <th>product_ref</th>\n",
       "      <th>delivery date</th>\n",
       "      <th>selling_price</th>\n",
       "    </tr>\n",
       "  </thead>\n",
       "  <tbody>\n",
       "    <tr>\n",
       "      <th>0</th>\n",
       "      <td>EC06F063-9DF0-440C-8764-0B0C05A4F6AE</td>\n",
       "      <td>20210401.0</td>\n",
       "      <td>54.151139</td>\n",
       "      <td>30156308.0</td>\n",
       "      <td>28.0</td>\n",
       "      <td>Won</td>\n",
       "      <td>W</td>\n",
       "      <td>10.0</td>\n",
       "      <td>2.00</td>\n",
       "      <td>1500.0</td>\n",
       "      <td>DEQ1 S460MC</td>\n",
       "      <td>1670798778</td>\n",
       "      <td>20210701.0</td>\n",
       "      <td>854.00</td>\n",
       "    </tr>\n",
       "    <tr>\n",
       "      <th>1</th>\n",
       "      <td>4E5F4B3D-DDDF-499D-AFDE-A3227EC49425</td>\n",
       "      <td>20210401.0</td>\n",
       "      <td>768.024839</td>\n",
       "      <td>30202938.0</td>\n",
       "      <td>25.0</td>\n",
       "      <td>Won</td>\n",
       "      <td>W</td>\n",
       "      <td>41.0</td>\n",
       "      <td>0.80</td>\n",
       "      <td>1210.0</td>\n",
       "      <td>0000000000000000000000000000000000104991</td>\n",
       "      <td>1668701718</td>\n",
       "      <td>20210401.0</td>\n",
       "      <td>1047.00</td>\n",
       "    </tr>\n",
       "    <tr>\n",
       "      <th>2</th>\n",
       "      <td>E140FF1B-2407-4C02-A0DD-780A093B1158</td>\n",
       "      <td>20210401.0</td>\n",
       "      <td>386.127949</td>\n",
       "      <td>30153963.0</td>\n",
       "      <td>30.0</td>\n",
       "      <td>Won</td>\n",
       "      <td>WI</td>\n",
       "      <td>28.0</td>\n",
       "      <td>0.38</td>\n",
       "      <td>952.0</td>\n",
       "      <td>S0380700</td>\n",
       "      <td>628377</td>\n",
       "      <td>20210101.0</td>\n",
       "      <td>644.33</td>\n",
       "    </tr>\n",
       "    <tr>\n",
       "      <th>3</th>\n",
       "      <td>F8D507A0-9C62-4EFE-831E-33E1DA53BB50</td>\n",
       "      <td>20210401.0</td>\n",
       "      <td>202.411065</td>\n",
       "      <td>30349574.0</td>\n",
       "      <td>32.0</td>\n",
       "      <td>Won</td>\n",
       "      <td>S</td>\n",
       "      <td>59.0</td>\n",
       "      <td>2.30</td>\n",
       "      <td>1317.0</td>\n",
       "      <td>DX51D+ZM310MAO 2.3X1317</td>\n",
       "      <td>1668701718</td>\n",
       "      <td>20210101.0</td>\n",
       "      <td>768.00</td>\n",
       "    </tr>\n",
       "    <tr>\n",
       "      <th>4</th>\n",
       "      <td>4E1C4E78-152B-430A-8094-ADD889C9D0AD</td>\n",
       "      <td>20210401.0</td>\n",
       "      <td>785.526262</td>\n",
       "      <td>30211560.0</td>\n",
       "      <td>28.0</td>\n",
       "      <td>Won</td>\n",
       "      <td>W</td>\n",
       "      <td>10.0</td>\n",
       "      <td>4.00</td>\n",
       "      <td>2000.0</td>\n",
       "      <td>2_S275JR+AR-CL1</td>\n",
       "      <td>640665</td>\n",
       "      <td>20210301.0</td>\n",
       "      <td>577.00</td>\n",
       "    </tr>\n",
       "    <tr>\n",
       "      <th>...</th>\n",
       "      <td>...</td>\n",
       "      <td>...</td>\n",
       "      <td>...</td>\n",
       "      <td>...</td>\n",
       "      <td>...</td>\n",
       "      <td>...</td>\n",
       "      <td>...</td>\n",
       "      <td>...</td>\n",
       "      <td>...</td>\n",
       "      <td>...</td>\n",
       "      <td>...</td>\n",
       "      <td>...</td>\n",
       "      <td>...</td>\n",
       "      <td>...</td>\n",
       "    </tr>\n",
       "    <tr>\n",
       "      <th>181668</th>\n",
       "      <td>DE633116-D1DF-4846-982E-55EFC3658A76</td>\n",
       "      <td>20200702.0</td>\n",
       "      <td>102.4824216</td>\n",
       "      <td>30200854.0</td>\n",
       "      <td>25.0</td>\n",
       "      <td>Won</td>\n",
       "      <td>W</td>\n",
       "      <td>41.0</td>\n",
       "      <td>0.96</td>\n",
       "      <td>1220.0</td>\n",
       "      <td>0000000000000000000000000000000001000777</td>\n",
       "      <td>164141591</td>\n",
       "      <td>20200701.0</td>\n",
       "      <td>591.00</td>\n",
       "    </tr>\n",
       "    <tr>\n",
       "      <th>181669</th>\n",
       "      <td>A48374B1-E6DB-45F2-889A-1F9C27C099EB</td>\n",
       "      <td>20200702.0</td>\n",
       "      <td>208.0864686</td>\n",
       "      <td>30200854.0</td>\n",
       "      <td>25.0</td>\n",
       "      <td>Won</td>\n",
       "      <td>W</td>\n",
       "      <td>41.0</td>\n",
       "      <td>0.95</td>\n",
       "      <td>1500.0</td>\n",
       "      <td>0000000000000000000000000000000001000227</td>\n",
       "      <td>164141591</td>\n",
       "      <td>20200701.0</td>\n",
       "      <td>589.00</td>\n",
       "    </tr>\n",
       "    <tr>\n",
       "      <th>181670</th>\n",
       "      <td>91643238-5C7B-4237-9A5F-63AE3D35F320</td>\n",
       "      <td>20200702.0</td>\n",
       "      <td>4.235593568</td>\n",
       "      <td>30200854.0</td>\n",
       "      <td>25.0</td>\n",
       "      <td>Won</td>\n",
       "      <td>W</td>\n",
       "      <td>41.0</td>\n",
       "      <td>0.71</td>\n",
       "      <td>1250.0</td>\n",
       "      <td>0000000000000000000000000000000001004216</td>\n",
       "      <td>164141591</td>\n",
       "      <td>20200701.0</td>\n",
       "      <td>619.00</td>\n",
       "    </tr>\n",
       "    <tr>\n",
       "      <th>181671</th>\n",
       "      <td>7AFFD323-01D9-4E15-B80D-7D1B03498FC8</td>\n",
       "      <td>20200702.0</td>\n",
       "      <td>-2000</td>\n",
       "      <td>30200854.0</td>\n",
       "      <td>25.0</td>\n",
       "      <td>Won</td>\n",
       "      <td>W</td>\n",
       "      <td>41.0</td>\n",
       "      <td>0.85</td>\n",
       "      <td>1250.0</td>\n",
       "      <td>0000000000000000000000000000000001001149</td>\n",
       "      <td>164141591</td>\n",
       "      <td>20200701.0</td>\n",
       "      <td>601.00</td>\n",
       "    </tr>\n",
       "    <tr>\n",
       "      <th>181672</th>\n",
       "      <td>AD0CA853-AE3C-4B2F-9FBB-8B0B965F84BC</td>\n",
       "      <td>20200702.0</td>\n",
       "      <td>406.6865384</td>\n",
       "      <td>30200854.0</td>\n",
       "      <td>25.0</td>\n",
       "      <td>Won</td>\n",
       "      <td>W</td>\n",
       "      <td>41.0</td>\n",
       "      <td>0.71</td>\n",
       "      <td>1240.0</td>\n",
       "      <td>0000000000000000000000000000000001005439</td>\n",
       "      <td>164141591</td>\n",
       "      <td>20200701.0</td>\n",
       "      <td>607.00</td>\n",
       "    </tr>\n",
       "  </tbody>\n",
       "</table>\n",
       "<p>181673 rows × 14 columns</p>\n",
       "</div>"
      ],
      "text/plain": [
       "                                          id   item_date quantity tons  \\\n",
       "0       EC06F063-9DF0-440C-8764-0B0C05A4F6AE  20210401.0     54.151139   \n",
       "1       4E5F4B3D-DDDF-499D-AFDE-A3227EC49425  20210401.0    768.024839   \n",
       "2       E140FF1B-2407-4C02-A0DD-780A093B1158  20210401.0    386.127949   \n",
       "3       F8D507A0-9C62-4EFE-831E-33E1DA53BB50  20210401.0    202.411065   \n",
       "4       4E1C4E78-152B-430A-8094-ADD889C9D0AD  20210401.0    785.526262   \n",
       "...                                      ...         ...           ...   \n",
       "181668  DE633116-D1DF-4846-982E-55EFC3658A76  20200702.0   102.4824216   \n",
       "181669  A48374B1-E6DB-45F2-889A-1F9C27C099EB  20200702.0   208.0864686   \n",
       "181670  91643238-5C7B-4237-9A5F-63AE3D35F320  20200702.0   4.235593568   \n",
       "181671  7AFFD323-01D9-4E15-B80D-7D1B03498FC8  20200702.0         -2000   \n",
       "181672  AD0CA853-AE3C-4B2F-9FBB-8B0B965F84BC  20200702.0   406.6865384   \n",
       "\n",
       "          customer  country status item type  application  thickness   width  \\\n",
       "0       30156308.0     28.0    Won         W         10.0       2.00  1500.0   \n",
       "1       30202938.0     25.0    Won         W         41.0       0.80  1210.0   \n",
       "2       30153963.0     30.0    Won        WI         28.0       0.38   952.0   \n",
       "3       30349574.0     32.0    Won         S         59.0       2.30  1317.0   \n",
       "4       30211560.0     28.0    Won         W         10.0       4.00  2000.0   \n",
       "...            ...      ...    ...       ...          ...        ...     ...   \n",
       "181668  30200854.0     25.0    Won         W         41.0       0.96  1220.0   \n",
       "181669  30200854.0     25.0    Won         W         41.0       0.95  1500.0   \n",
       "181670  30200854.0     25.0    Won         W         41.0       0.71  1250.0   \n",
       "181671  30200854.0     25.0    Won         W         41.0       0.85  1250.0   \n",
       "181672  30200854.0     25.0    Won         W         41.0       0.71  1240.0   \n",
       "\n",
       "                                    material_ref  product_ref  delivery date  \\\n",
       "0                                    DEQ1 S460MC   1670798778     20210701.0   \n",
       "1       0000000000000000000000000000000000104991   1668701718     20210401.0   \n",
       "2                                       S0380700       628377     20210101.0   \n",
       "3                        DX51D+ZM310MAO 2.3X1317   1668701718     20210101.0   \n",
       "4                                2_S275JR+AR-CL1       640665     20210301.0   \n",
       "...                                          ...          ...            ...   \n",
       "181668  0000000000000000000000000000000001000777    164141591     20200701.0   \n",
       "181669  0000000000000000000000000000000001000227    164141591     20200701.0   \n",
       "181670  0000000000000000000000000000000001004216    164141591     20200701.0   \n",
       "181671  0000000000000000000000000000000001001149    164141591     20200701.0   \n",
       "181672  0000000000000000000000000000000001005439    164141591     20200701.0   \n",
       "\n",
       "        selling_price  \n",
       "0              854.00  \n",
       "1             1047.00  \n",
       "2              644.33  \n",
       "3              768.00  \n",
       "4              577.00  \n",
       "...               ...  \n",
       "181668         591.00  \n",
       "181669         589.00  \n",
       "181670         619.00  \n",
       "181671         601.00  \n",
       "181672         607.00  \n",
       "\n",
       "[181673 rows x 14 columns]"
      ]
     },
     "execution_count": 4,
     "metadata": {},
     "output_type": "execute_result"
    }
   ],
   "source": [
    "df"
   ]
  },
  {
   "cell_type": "code",
   "execution_count": 5,
   "metadata": {
    "colab": {
     "base_uri": "https://localhost:8080/"
    },
    "id": "XPrpUbpIAuNh",
    "outputId": "dc506bea-040b-4e68-d27a-84536b389620"
   },
   "outputs": [
    {
     "data": {
      "text/plain": [
       "(181673, 14)"
      ]
     },
     "execution_count": 5,
     "metadata": {},
     "output_type": "execute_result"
    }
   ],
   "source": [
    "df.shape"
   ]
  },
  {
   "cell_type": "markdown",
   "metadata": {
    "id": "4OIxXQUZCQdu"
   },
   "source": [
    "missing_values"
   ]
  },
  {
   "cell_type": "code",
   "execution_count": 6,
   "metadata": {
    "colab": {
     "base_uri": "https://localhost:8080/"
    },
    "id": "s7eAAdRLBXOe",
    "outputId": "470d3c89-2f59-45f6-89c6-74c4829c0eee"
   },
   "outputs": [
    {
     "name": "stdout",
     "output_type": "stream",
     "text": [
      "id                   2\n",
      "item_date            1\n",
      "quantity tons        0\n",
      "customer             1\n",
      "country             28\n",
      "status               2\n",
      "item type            0\n",
      "application         24\n",
      "thickness            1\n",
      "width                0\n",
      "material_ref     77919\n",
      "product_ref          0\n",
      "delivery date        1\n",
      "selling_price        1\n",
      "dtype: int64\n"
     ]
    }
   ],
   "source": [
    "Miss_value=df.isnull().sum()\n",
    "print(Miss_value)"
   ]
  },
  {
   "cell_type": "markdown",
   "metadata": {
    "id": "pDWxR0WlDyIN"
   },
   "source": [
    "PREPROCESSING"
   ]
  },
  {
   "cell_type": "code",
   "execution_count": 7,
   "metadata": {
    "id": "7TWvz_EDCr9l"
   },
   "outputs": [],
   "source": [
    "df['item_date']=pd.to_datetime(df['item_date'],format='%Y%m%d',errors='coerce').dt.date\n",
    "df['quantity tons']=pd.to_numeric(df['quantity tons'],errors='coerce')\n",
    "df['customer']=pd.to_numeric(df['customer'],errors='coerce')\n",
    "df['country']=pd.to_numeric(df['country'],errors='coerce')\n",
    "df['application']=pd.to_numeric(df['application'],errors='coerce')\n",
    "df['thickness']=pd.to_numeric(df['thickness'],errors='coerce')\n",
    "df['width']=pd.to_numeric(df['width'],errors='coerce')\n",
    "df['product_ref']=pd.to_numeric(df['product_ref'],errors='coerce')\n",
    "df['delivery date']=pd.to_datetime(df['delivery date'],format='%Y%m%d',errors='coerce').dt.date\n",
    "df['selling_price']=pd.to_numeric(df['selling_price'],errors='coerce')\n",
    "df['material_ref']=df['material_ref'].str.lstrip('0')"
   ]
  },
  {
   "cell_type": "code",
   "execution_count": 8,
   "metadata": {
    "colab": {
     "base_uri": "https://localhost:8080/",
     "height": 947
    },
    "id": "LSdXcjRaEfM_",
    "outputId": "7725f2f6-7163-460e-a3d9-f3a7d5cc86d9"
   },
   "outputs": [
    {
     "data": {
      "text/html": [
       "<div>\n",
       "<style scoped>\n",
       "    .dataframe tbody tr th:only-of-type {\n",
       "        vertical-align: middle;\n",
       "    }\n",
       "\n",
       "    .dataframe tbody tr th {\n",
       "        vertical-align: top;\n",
       "    }\n",
       "\n",
       "    .dataframe thead th {\n",
       "        text-align: right;\n",
       "    }\n",
       "</style>\n",
       "<table border=\"1\" class=\"dataframe\">\n",
       "  <thead>\n",
       "    <tr style=\"text-align: right;\">\n",
       "      <th></th>\n",
       "      <th>id</th>\n",
       "      <th>item_date</th>\n",
       "      <th>quantity tons</th>\n",
       "      <th>customer</th>\n",
       "      <th>country</th>\n",
       "      <th>status</th>\n",
       "      <th>item type</th>\n",
       "      <th>application</th>\n",
       "      <th>thickness</th>\n",
       "      <th>width</th>\n",
       "      <th>material_ref</th>\n",
       "      <th>product_ref</th>\n",
       "      <th>delivery date</th>\n",
       "      <th>selling_price</th>\n",
       "    </tr>\n",
       "  </thead>\n",
       "  <tbody>\n",
       "    <tr>\n",
       "      <th>0</th>\n",
       "      <td>EC06F063-9DF0-440C-8764-0B0C05A4F6AE</td>\n",
       "      <td>2021-04-01</td>\n",
       "      <td>54.151139</td>\n",
       "      <td>30156308.0</td>\n",
       "      <td>28.0</td>\n",
       "      <td>Won</td>\n",
       "      <td>W</td>\n",
       "      <td>10.0</td>\n",
       "      <td>2.00</td>\n",
       "      <td>1500.0</td>\n",
       "      <td>DEQ1 S460MC</td>\n",
       "      <td>1670798778</td>\n",
       "      <td>2021-07-01</td>\n",
       "      <td>854.00</td>\n",
       "    </tr>\n",
       "    <tr>\n",
       "      <th>1</th>\n",
       "      <td>4E5F4B3D-DDDF-499D-AFDE-A3227EC49425</td>\n",
       "      <td>2021-04-01</td>\n",
       "      <td>768.024839</td>\n",
       "      <td>30202938.0</td>\n",
       "      <td>25.0</td>\n",
       "      <td>Won</td>\n",
       "      <td>W</td>\n",
       "      <td>41.0</td>\n",
       "      <td>0.80</td>\n",
       "      <td>1210.0</td>\n",
       "      <td>104991</td>\n",
       "      <td>1668701718</td>\n",
       "      <td>2021-04-01</td>\n",
       "      <td>1047.00</td>\n",
       "    </tr>\n",
       "    <tr>\n",
       "      <th>2</th>\n",
       "      <td>E140FF1B-2407-4C02-A0DD-780A093B1158</td>\n",
       "      <td>2021-04-01</td>\n",
       "      <td>386.127949</td>\n",
       "      <td>30153963.0</td>\n",
       "      <td>30.0</td>\n",
       "      <td>Won</td>\n",
       "      <td>WI</td>\n",
       "      <td>28.0</td>\n",
       "      <td>0.38</td>\n",
       "      <td>952.0</td>\n",
       "      <td>S0380700</td>\n",
       "      <td>628377</td>\n",
       "      <td>2021-01-01</td>\n",
       "      <td>644.33</td>\n",
       "    </tr>\n",
       "    <tr>\n",
       "      <th>3</th>\n",
       "      <td>F8D507A0-9C62-4EFE-831E-33E1DA53BB50</td>\n",
       "      <td>2021-04-01</td>\n",
       "      <td>202.411065</td>\n",
       "      <td>30349574.0</td>\n",
       "      <td>32.0</td>\n",
       "      <td>Won</td>\n",
       "      <td>S</td>\n",
       "      <td>59.0</td>\n",
       "      <td>2.30</td>\n",
       "      <td>1317.0</td>\n",
       "      <td>DX51D+ZM310MAO 2.3X1317</td>\n",
       "      <td>1668701718</td>\n",
       "      <td>2021-01-01</td>\n",
       "      <td>768.00</td>\n",
       "    </tr>\n",
       "    <tr>\n",
       "      <th>4</th>\n",
       "      <td>4E1C4E78-152B-430A-8094-ADD889C9D0AD</td>\n",
       "      <td>2021-04-01</td>\n",
       "      <td>785.526262</td>\n",
       "      <td>30211560.0</td>\n",
       "      <td>28.0</td>\n",
       "      <td>Won</td>\n",
       "      <td>W</td>\n",
       "      <td>10.0</td>\n",
       "      <td>4.00</td>\n",
       "      <td>2000.0</td>\n",
       "      <td>2_S275JR+AR-CL1</td>\n",
       "      <td>640665</td>\n",
       "      <td>2021-03-01</td>\n",
       "      <td>577.00</td>\n",
       "    </tr>\n",
       "    <tr>\n",
       "      <th>...</th>\n",
       "      <td>...</td>\n",
       "      <td>...</td>\n",
       "      <td>...</td>\n",
       "      <td>...</td>\n",
       "      <td>...</td>\n",
       "      <td>...</td>\n",
       "      <td>...</td>\n",
       "      <td>...</td>\n",
       "      <td>...</td>\n",
       "      <td>...</td>\n",
       "      <td>...</td>\n",
       "      <td>...</td>\n",
       "      <td>...</td>\n",
       "      <td>...</td>\n",
       "    </tr>\n",
       "    <tr>\n",
       "      <th>181668</th>\n",
       "      <td>DE633116-D1DF-4846-982E-55EFC3658A76</td>\n",
       "      <td>2020-07-02</td>\n",
       "      <td>102.482422</td>\n",
       "      <td>30200854.0</td>\n",
       "      <td>25.0</td>\n",
       "      <td>Won</td>\n",
       "      <td>W</td>\n",
       "      <td>41.0</td>\n",
       "      <td>0.96</td>\n",
       "      <td>1220.0</td>\n",
       "      <td>1000777</td>\n",
       "      <td>164141591</td>\n",
       "      <td>2020-07-01</td>\n",
       "      <td>591.00</td>\n",
       "    </tr>\n",
       "    <tr>\n",
       "      <th>181669</th>\n",
       "      <td>A48374B1-E6DB-45F2-889A-1F9C27C099EB</td>\n",
       "      <td>2020-07-02</td>\n",
       "      <td>208.086469</td>\n",
       "      <td>30200854.0</td>\n",
       "      <td>25.0</td>\n",
       "      <td>Won</td>\n",
       "      <td>W</td>\n",
       "      <td>41.0</td>\n",
       "      <td>0.95</td>\n",
       "      <td>1500.0</td>\n",
       "      <td>1000227</td>\n",
       "      <td>164141591</td>\n",
       "      <td>2020-07-01</td>\n",
       "      <td>589.00</td>\n",
       "    </tr>\n",
       "    <tr>\n",
       "      <th>181670</th>\n",
       "      <td>91643238-5C7B-4237-9A5F-63AE3D35F320</td>\n",
       "      <td>2020-07-02</td>\n",
       "      <td>4.235594</td>\n",
       "      <td>30200854.0</td>\n",
       "      <td>25.0</td>\n",
       "      <td>Won</td>\n",
       "      <td>W</td>\n",
       "      <td>41.0</td>\n",
       "      <td>0.71</td>\n",
       "      <td>1250.0</td>\n",
       "      <td>1004216</td>\n",
       "      <td>164141591</td>\n",
       "      <td>2020-07-01</td>\n",
       "      <td>619.00</td>\n",
       "    </tr>\n",
       "    <tr>\n",
       "      <th>181671</th>\n",
       "      <td>7AFFD323-01D9-4E15-B80D-7D1B03498FC8</td>\n",
       "      <td>2020-07-02</td>\n",
       "      <td>-2000.000000</td>\n",
       "      <td>30200854.0</td>\n",
       "      <td>25.0</td>\n",
       "      <td>Won</td>\n",
       "      <td>W</td>\n",
       "      <td>41.0</td>\n",
       "      <td>0.85</td>\n",
       "      <td>1250.0</td>\n",
       "      <td>1001149</td>\n",
       "      <td>164141591</td>\n",
       "      <td>2020-07-01</td>\n",
       "      <td>601.00</td>\n",
       "    </tr>\n",
       "    <tr>\n",
       "      <th>181672</th>\n",
       "      <td>AD0CA853-AE3C-4B2F-9FBB-8B0B965F84BC</td>\n",
       "      <td>2020-07-02</td>\n",
       "      <td>406.686538</td>\n",
       "      <td>30200854.0</td>\n",
       "      <td>25.0</td>\n",
       "      <td>Won</td>\n",
       "      <td>W</td>\n",
       "      <td>41.0</td>\n",
       "      <td>0.71</td>\n",
       "      <td>1240.0</td>\n",
       "      <td>1005439</td>\n",
       "      <td>164141591</td>\n",
       "      <td>2020-07-01</td>\n",
       "      <td>607.00</td>\n",
       "    </tr>\n",
       "  </tbody>\n",
       "</table>\n",
       "<p>181673 rows × 14 columns</p>\n",
       "</div>"
      ],
      "text/plain": [
       "                                          id   item_date  quantity tons  \\\n",
       "0       EC06F063-9DF0-440C-8764-0B0C05A4F6AE  2021-04-01      54.151139   \n",
       "1       4E5F4B3D-DDDF-499D-AFDE-A3227EC49425  2021-04-01     768.024839   \n",
       "2       E140FF1B-2407-4C02-A0DD-780A093B1158  2021-04-01     386.127949   \n",
       "3       F8D507A0-9C62-4EFE-831E-33E1DA53BB50  2021-04-01     202.411065   \n",
       "4       4E1C4E78-152B-430A-8094-ADD889C9D0AD  2021-04-01     785.526262   \n",
       "...                                      ...         ...            ...   \n",
       "181668  DE633116-D1DF-4846-982E-55EFC3658A76  2020-07-02     102.482422   \n",
       "181669  A48374B1-E6DB-45F2-889A-1F9C27C099EB  2020-07-02     208.086469   \n",
       "181670  91643238-5C7B-4237-9A5F-63AE3D35F320  2020-07-02       4.235594   \n",
       "181671  7AFFD323-01D9-4E15-B80D-7D1B03498FC8  2020-07-02   -2000.000000   \n",
       "181672  AD0CA853-AE3C-4B2F-9FBB-8B0B965F84BC  2020-07-02     406.686538   \n",
       "\n",
       "          customer  country status item type  application  thickness   width  \\\n",
       "0       30156308.0     28.0    Won         W         10.0       2.00  1500.0   \n",
       "1       30202938.0     25.0    Won         W         41.0       0.80  1210.0   \n",
       "2       30153963.0     30.0    Won        WI         28.0       0.38   952.0   \n",
       "3       30349574.0     32.0    Won         S         59.0       2.30  1317.0   \n",
       "4       30211560.0     28.0    Won         W         10.0       4.00  2000.0   \n",
       "...            ...      ...    ...       ...          ...        ...     ...   \n",
       "181668  30200854.0     25.0    Won         W         41.0       0.96  1220.0   \n",
       "181669  30200854.0     25.0    Won         W         41.0       0.95  1500.0   \n",
       "181670  30200854.0     25.0    Won         W         41.0       0.71  1250.0   \n",
       "181671  30200854.0     25.0    Won         W         41.0       0.85  1250.0   \n",
       "181672  30200854.0     25.0    Won         W         41.0       0.71  1240.0   \n",
       "\n",
       "                   material_ref  product_ref delivery date  selling_price  \n",
       "0                   DEQ1 S460MC   1670798778    2021-07-01         854.00  \n",
       "1                        104991   1668701718    2021-04-01        1047.00  \n",
       "2                      S0380700       628377    2021-01-01         644.33  \n",
       "3       DX51D+ZM310MAO 2.3X1317   1668701718    2021-01-01         768.00  \n",
       "4               2_S275JR+AR-CL1       640665    2021-03-01         577.00  \n",
       "...                         ...          ...           ...            ...  \n",
       "181668                  1000777    164141591    2020-07-01         591.00  \n",
       "181669                  1000227    164141591    2020-07-01         589.00  \n",
       "181670                  1004216    164141591    2020-07-01         619.00  \n",
       "181671                  1001149    164141591    2020-07-01         601.00  \n",
       "181672                  1005439    164141591    2020-07-01         607.00  \n",
       "\n",
       "[181673 rows x 14 columns]"
      ]
     },
     "execution_count": 8,
     "metadata": {},
     "output_type": "execute_result"
    }
   ],
   "source": [
    "df"
   ]
  },
  {
   "cell_type": "code",
   "execution_count": 9,
   "metadata": {
    "colab": {
     "base_uri": "https://localhost:8080/"
    },
    "id": "QCESsZM4OQBg",
    "outputId": "2ebefe70-a013-4b12-c25d-8ce759a579ab"
   },
   "outputs": [
    {
     "name": "stdout",
     "output_type": "stream",
     "text": [
      "<class 'pandas.core.frame.DataFrame'>\n",
      "RangeIndex: 181673 entries, 0 to 181672\n",
      "Data columns (total 14 columns):\n",
      " #   Column         Non-Null Count   Dtype  \n",
      "---  ------         --------------   -----  \n",
      " 0   id             181671 non-null  object \n",
      " 1   item_date      181670 non-null  object \n",
      " 2   quantity tons  181672 non-null  float64\n",
      " 3   customer       181672 non-null  float64\n",
      " 4   country        181645 non-null  float64\n",
      " 5   status         181671 non-null  object \n",
      " 6   item type      181673 non-null  object \n",
      " 7   application    181649 non-null  float64\n",
      " 8   thickness      181672 non-null  float64\n",
      " 9   width          181673 non-null  float64\n",
      " 10  material_ref   103754 non-null  object \n",
      " 11  product_ref    181673 non-null  int64  \n",
      " 12  delivery date  181670 non-null  object \n",
      " 13  selling_price  181672 non-null  float64\n",
      "dtypes: float64(7), int64(1), object(6)\n",
      "memory usage: 19.4+ MB\n"
     ]
    }
   ],
   "source": [
    "df.info()"
   ]
  },
  {
   "cell_type": "code",
   "execution_count": 10,
   "metadata": {
    "colab": {
     "base_uri": "https://localhost:8080/"
    },
    "id": "mgCXVoEatWUv",
    "outputId": "a7c7d8cf-a2a1-433d-db2d-d3ef230d95e7"
   },
   "outputs": [
    {
     "name": "stdout",
     "output_type": "stream",
     "text": [
      "id               0\n",
      "item_date        0\n",
      "quantity tons    0\n",
      "customer         0\n",
      "country          0\n",
      "status           0\n",
      "item type        0\n",
      "application      0\n",
      "thickness        0\n",
      "width            0\n",
      "material_ref     0\n",
      "product_ref      0\n",
      "delivery date    0\n",
      "selling_price    0\n",
      "dtype: int64\n"
     ]
    },
    {
     "name": "stderr",
     "output_type": "stream",
     "text": [
      "C:\\Users\\Jaison Aro\\AppData\\Local\\Temp\\ipykernel_15844\\2989169040.py:1: FutureWarning: A value is trying to be set on a copy of a DataFrame or Series through chained assignment using an inplace method.\n",
      "The behavior will change in pandas 3.0. This inplace method will never work because the intermediate object on which we are setting values always behaves as a copy.\n",
      "\n",
      "For example, when doing 'df[col].method(value, inplace=True)', try using 'df.method({col: value}, inplace=True)' or df[col] = df[col].method(value) instead, to perform the operation inplace on the original object.\n",
      "\n",
      "\n",
      "  df['material_ref'].fillna('missing',inplace=True)\n"
     ]
    }
   ],
   "source": [
    "df['material_ref'].fillna('missing',inplace=True)\n",
    "df=df.dropna()\n",
    "missingvalues=df.isnull().sum()\n",
    "print(missingvalues)"
   ]
  },
  {
   "cell_type": "code",
   "execution_count": 11,
   "metadata": {
    "colab": {
     "base_uri": "https://localhost:8080/"
    },
    "id": "S0Mdx9QRubiU",
    "outputId": "64ae230c-9b8c-42f1-e755-ca2436470533"
   },
   "outputs": [
    {
     "name": "stdout",
     "output_type": "stream",
     "text": [
      "<class 'pandas.core.frame.DataFrame'>\n",
      "Index: 181631 entries, 0 to 181672\n",
      "Data columns (total 14 columns):\n",
      " #   Column         Non-Null Count   Dtype  \n",
      "---  ------         --------------   -----  \n",
      " 0   id             181631 non-null  object \n",
      " 1   item_date      181631 non-null  object \n",
      " 2   quantity tons  181631 non-null  float64\n",
      " 3   customer       181631 non-null  float64\n",
      " 4   country        181631 non-null  float64\n",
      " 5   status         181631 non-null  object \n",
      " 6   item type      181631 non-null  object \n",
      " 7   application    181631 non-null  float64\n",
      " 8   thickness      181631 non-null  float64\n",
      " 9   width          181631 non-null  float64\n",
      " 10  material_ref   181631 non-null  object \n",
      " 11  product_ref    181631 non-null  int64  \n",
      " 12  delivery date  181631 non-null  object \n",
      " 13  selling_price  181631 non-null  float64\n",
      "dtypes: float64(7), int64(1), object(6)\n",
      "memory usage: 20.8+ MB\n"
     ]
    }
   ],
   "source": [
    "df.info()"
   ]
  },
  {
   "cell_type": "code",
   "execution_count": 12,
   "metadata": {
    "colab": {
     "base_uri": "https://localhost:8080/",
     "height": 335
    },
    "id": "yita-qmxu-XC",
    "outputId": "f3060859-6ade-48cc-90ea-4a217eb4fa6b"
   },
   "outputs": [
    {
     "name": "stderr",
     "output_type": "stream",
     "text": [
      "C:\\Users\\Jaison Aro\\AppData\\Local\\Temp\\ipykernel_15844\\3797590925.py:3: SettingWithCopyWarning: \n",
      "A value is trying to be set on a copy of a slice from a DataFrame.\n",
      "Try using .loc[row_indexer,col_indexer] = value instead\n",
      "\n",
      "See the caveats in the documentation: https://pandas.pydata.org/pandas-docs/stable/user_guide/indexing.html#returning-a-view-versus-a-copy\n",
      "  df['item_date'] = pd.to_datetime(df['item_date'])\n"
     ]
    },
    {
     "data": {
      "image/png": "[encoded data removed]",
      "text/plain": [
       "<Figure size 1200x600 with 1 Axes>"
      ]
     },
     "metadata": {},
     "output_type": "display_data"
    }
   ],
   "source": [
    "import matplotlib.pyplot as plt\n",
    "import seaborn as sns\n",
    "df['item_date'] = pd.to_datetime(df['item_date'])\n",
    "quantity_over_time = df.groupby('item_date')['quantity tons'].sum().reset_index()\n",
    "\n",
    "plt.figure(figsize=(12, 6))\n",
    "sns.lineplot(data=quantity_over_time, x='item_date', y='quantity tons', color='skyblue')\n",
    "plt.title('Trend of Quantity Over Time')\n",
    "plt.xlabel('Date')\n",
    "plt.ylabel('Quantity (Tons)')\n",
    "plt.grid(True)\n",
    "plt.show()\n"
   ]
  },
  {
   "cell_type": "code",
   "execution_count": 13,
   "metadata": {
    "id": "_nrr0sH2ud05"
   },
   "outputs": [],
   "source": [
    "# DISTRIBUTION"
   ]
  },
  {
   "cell_type": "code",
   "execution_count": 14,
   "metadata": {
    "colab": {
     "base_uri": "https://localhost:8080/"
    },
    "id": "rvh9jdOJdJoq",
    "outputId": "6b74b0b1-7533-4aef-cc99-13ced3c104c0"
   },
   "outputs": [
    {
     "data": {
      "text/plain": [
       "Index(['id', 'item_date', 'quantity tons', 'customer', 'country', 'status',\n",
       "       'item type', 'application', 'thickness', 'width', 'material_ref',\n",
       "       'product_ref', 'delivery date', 'selling_price'],\n",
       "      dtype='object')"
      ]
     },
     "execution_count": 14,
     "metadata": {},
     "output_type": "execute_result"
    }
   ],
   "source": [
    "df.columns"
   ]
  },
  {
   "cell_type": "code",
   "execution_count": 15,
   "metadata": {
    "colab": {
     "base_uri": "https://localhost:8080/",
     "height": 1000
    },
    "id": "ic_E1QGTci5a",
    "outputId": "be3e83cc-ac87-4042-a2e4-148b73d7f0db"
   },
   "outputs": [
    {
     "name": "stderr",
     "output_type": "stream",
     "text": [
      "C:\\Users\\Jaison Aro\\AppData\\Local\\Temp\\ipykernel_15844\\3896180063.py:3: UserWarning: \n",
      "\n",
      "`distplot` is a deprecated function and will be removed in seaborn v0.14.0.\n",
      "\n",
      "Please adapt your code to use either `displot` (a figure-level function with\n",
      "similar flexibility) or `histplot` (an axes-level function for histograms).\n",
      "\n",
      "For a guide to updating your code to use the new functions, please see\n",
      "https://gist.github.com/mwaskom/de44147ed2974457ad6372750bbe5751\n",
      "\n",
      "  sns.distplot(df['quantity tons'],kde=True)\n"
     ]
    },
    {
     "data": {
      "image/png": "[encoded data removed]",
      "text/plain": [
       "<Figure size 640x480 with 1 Axes>"
      ]
     },
     "metadata": {},
     "output_type": "display_data"
    },
    {
     "name": "stderr",
     "output_type": "stream",
     "text": [
      "C:\\Users\\Jaison Aro\\AppData\\Local\\Temp\\ipykernel_15844\\3896180063.py:5: UserWarning: \n",
      "\n",
      "`distplot` is a deprecated function and will be removed in seaborn v0.14.0.\n",
      "\n",
      "Please adapt your code to use either `displot` (a figure-level function with\n",
      "similar flexibility) or `histplot` (an axes-level function for histograms).\n",
      "\n",
      "For a guide to updating your code to use the new functions, please see\n",
      "https://gist.github.com/mwaskom/de44147ed2974457ad6372750bbe5751\n",
      "\n",
      "  sns.distplot(df['country'])\n"
     ]
    },
    {
     "data": {
      "image/png": "[encoded data removed]",
      "text/plain": [
       "<Figure size 640x480 with 1 Axes>"
      ]
     },
     "metadata": {},
     "output_type": "display_data"
    },
    {
     "name": "stderr",
     "output_type": "stream",
     "text": [
      "C:\\Users\\Jaison Aro\\AppData\\Local\\Temp\\ipykernel_15844\\3896180063.py:7: UserWarning: \n",
      "\n",
      "`distplot` is a deprecated function and will be removed in seaborn v0.14.0.\n",
      "\n",
      "Please adapt your code to use either `displot` (a figure-level function with\n",
      "similar flexibility) or `histplot` (an axes-level function for histograms).\n",
      "\n",
      "For a guide to updating your code to use the new functions, please see\n",
      "https://gist.github.com/mwaskom/de44147ed2974457ad6372750bbe5751\n",
      "\n",
      "  sns.distplot(df['application'])\n"
     ]
    },
    {
     "data": {
      "image/png": "[encoded data removed]",
      "text/plain": [
       "<Figure size 640x480 with 1 Axes>"
      ]
     },
     "metadata": {},
     "output_type": "display_data"
    },
    {
     "name": "stderr",
     "output_type": "stream",
     "text": [
      "C:\\Users\\Jaison Aro\\AppData\\Local\\Temp\\ipykernel_15844\\3896180063.py:9: UserWarning: \n",
      "\n",
      "`distplot` is a deprecated function and will be removed in seaborn v0.14.0.\n",
      "\n",
      "Please adapt your code to use either `displot` (a figure-level function with\n",
      "similar flexibility) or `histplot` (an axes-level function for histograms).\n",
      "\n",
      "For a guide to updating your code to use the new functions, please see\n",
      "https://gist.github.com/mwaskom/de44147ed2974457ad6372750bbe5751\n",
      "\n",
      "  sns.distplot(df['thickness'])\n"
     ]
    },
    {
     "data": {
      "image/png": "[encoded data removed]",
      "text/plain": [
       "<Figure size 640x480 with 1 Axes>"
      ]
     },
     "metadata": {},
     "output_type": "display_data"
    },
    {
     "name": "stderr",
     "output_type": "stream",
     "text": [
      "C:\\Users\\Jaison Aro\\AppData\\Local\\Temp\\ipykernel_15844\\3896180063.py:11: UserWarning: \n",
      "\n",
      "`distplot` is a deprecated function and will be removed in seaborn v0.14.0.\n",
      "\n",
      "Please adapt your code to use either `displot` (a figure-level function with\n",
      "similar flexibility) or `histplot` (an axes-level function for histograms).\n",
      "\n",
      "For a guide to updating your code to use the new functions, please see\n",
      "https://gist.github.com/mwaskom/de44147ed2974457ad6372750bbe5751\n",
      "\n",
      "  sns.distplot(df['width'])\n"
     ]
    },
    {
     "data": {
      "image/png": "[encoded data removed]",
      "text/plain": [
       "<Figure size 640x480 with 1 Axes>"
      ]
     },
     "metadata": {},
     "output_type": "display_data"
    },
    {
     "name": "stderr",
     "output_type": "stream",
     "text": [
      "C:\\Users\\Jaison Aro\\AppData\\Local\\Temp\\ipykernel_15844\\3896180063.py:13: UserWarning: \n",
      "\n",
      "`distplot` is a deprecated function and will be removed in seaborn v0.14.0.\n",
      "\n",
      "Please adapt your code to use either `displot` (a figure-level function with\n",
      "similar flexibility) or `histplot` (an axes-level function for histograms).\n",
      "\n",
      "For a guide to updating your code to use the new functions, please see\n",
      "https://gist.github.com/mwaskom/de44147ed2974457ad6372750bbe5751\n",
      "\n",
      "  sns.distplot(df['selling_price'])\n"
     ]
    },
    {
     "data": {
      "image/png": "[encoded data removed]",
      "text/plain": [
       "<Figure size 640x480 with 1 Axes>"
      ]
     },
     "metadata": {},
     "output_type": "display_data"
    }
   ],
   "source": [
    "import seaborn as sns\n",
    "import matplotlib.pyplot as plt\n",
    "sns.distplot(df['quantity tons'],kde=True)\n",
    "plt.show()\n",
    "sns.distplot(df['country'])\n",
    "plt.show()\n",
    "sns.distplot(df['application'])\n",
    "plt.show()\n",
    "sns.distplot(df['thickness'])\n",
    "plt.show()\n",
    "sns.distplot(df['width'])\n",
    "plt.show()\n",
    "sns.distplot(df['selling_price'])\n",
    "plt.show()\n"
   ]
  },
  {
   "cell_type": "code",
   "execution_count": 16,
   "metadata": {
    "colab": {
     "base_uri": "https://localhost:8080/",
     "height": 1000
    },
    "id": "vq-mvfQJdGD5",
    "outputId": "8312a633-ddcc-4a4c-b91c-7d3361ff1f51"
   },
   "outputs": [
    {
     "data": {
      "image/png": "[encoded data removed]",
      "text/plain": [
       "<Figure size 800x400 with 1 Axes>"
      ]
     },
     "metadata": {},
     "output_type": "display_data"
    },
    {
     "data": {
      "image/png": "[encoded data removed]",
      "text/plain": [
       "<Figure size 800x400 with 1 Axes>"
      ]
     },
     "metadata": {},
     "output_type": "display_data"
    },
    {
     "data": {
      "image/png": "[encoded data removed]",
      "text/plain": [
       "<Figure size 800x400 with 1 Axes>"
      ]
     },
     "metadata": {},
     "output_type": "display_data"
    },
    {
     "data": {
      "image/png": "[encoded data removed]",
      "text/plain": [
       "<Figure size 800x400 with 1 Axes>"
      ]
     },
     "metadata": {},
     "output_type": "display_data"
    },
    {
     "data": {
      "image/png": "[encoded data removed]",
      "text/plain": [
       "<Figure size 800x400 with 1 Axes>"
      ]
     },
     "metadata": {},
     "output_type": "display_data"
    }
   ],
   "source": [
    "import seaborn as sns\n",
    "import matplotlib.pyplot as plt\n",
    "\n",
    "plt.figure(figsize=(8, 4))\n",
    "sns.boxplot(x=df['country'])\n",
    "plt.title('Box Plot of country')\n",
    "plt.xlabel('country')\n",
    "plt.show()\n",
    "\n",
    "import seaborn as sns\n",
    "import matplotlib.pyplot as plt\n",
    "\n",
    "plt.figure(figsize=(8, 4))\n",
    "sns.boxplot(x=df['application'])\n",
    "plt.title('Box Plot of Application')\n",
    "plt.xlabel('Application')\n",
    "plt.show()\n",
    "\n",
    "import seaborn as sns\n",
    "import matplotlib.pyplot as plt\n",
    "\n",
    "plt.figure(figsize=(8, 4))\n",
    "sns.boxplot(x=df['thickness'])\n",
    "plt.title('Box Plot of thickness')\n",
    "plt.xlabel('thickness')\n",
    "plt.show()\n",
    "\n",
    "import seaborn as sns\n",
    "import matplotlib.pyplot as plt\n",
    "\n",
    "plt.figure(figsize=(8, 4))\n",
    "sns.boxplot(x=df['width'])\n",
    "plt.title('Box Plot of width')\n",
    "plt.xlabel('width')\n",
    "plt.show()\n",
    "import seaborn as sns\n",
    "import matplotlib.pyplot as plt\n",
    "\n",
    "plt.figure(figsize=(8, 4))\n",
    "sns.boxplot(x=df['selling_price'])\n",
    "plt.title('Box Plot of selling_price')\n",
    "plt.xlabel('selling_price')\n",
    "plt.show()\n",
    "\n",
    "\n"
   ]
  },
  {
   "cell_type": "code",
   "execution_count": 17,
   "metadata": {
    "colab": {
     "base_uri": "https://localhost:8080/"
    },
    "id": "EqRrg3aK8ZaO",
    "outputId": "2565bca3-ad69-40bc-8caa-6822412c5f75"
   },
   "outputs": [
    {
     "name": "stdout",
     "output_type": "stream",
     "text": [
      "7\n",
      "0\n",
      "4\n"
     ]
    }
   ],
   "source": [
    "import numpy as np\n",
    "mask=df['selling_price']<=0\n",
    "print(mask.sum())\n",
    "import numpy as np\n",
    "mask=df['thickness']<=0\n",
    "print(mask.sum())\n",
    "import numpy as np\n",
    "mask=df['quantity tons']<=0\n",
    "print(mask.sum())"
   ]
  },
  {
   "cell_type": "code",
   "execution_count": 18,
   "metadata": {
    "id": "uiUvSRoxhUHb"
   },
   "outputs": [],
   "source": [
    "# handling outliers\n",
    "# qunatity tons, selling price, thickness"
   ]
  },
  {
   "cell_type": "code",
   "execution_count": 19,
   "metadata": {
    "colab": {
     "base_uri": "https://localhost:8080/",
     "height": 760
    },
    "id": "XnR3yvgfh3v1",
    "outputId": "739172c7-91e5-4c80-8288-4991a45c3a99"
   },
   "outputs": [
    {
     "name": "stderr",
     "output_type": "stream",
     "text": [
      "e:\\capstone_projects\\.venv\\lib\\site-packages\\pandas\\core\\arraylike.py:399: RuntimeWarning: invalid value encountered in log\n",
      "  result = getattr(ufunc, method)(*inputs, **kwargs)\n",
      "C:\\Users\\Jaison Aro\\AppData\\Local\\Temp\\ipykernel_15844\\4035007174.py:3: SettingWithCopyWarning: \n",
      "A value is trying to be set on a copy of a slice from a DataFrame.\n",
      "Try using .loc[row_indexer,col_indexer] = value instead\n",
      "\n",
      "See the caveats in the documentation: https://pandas.pydata.org/pandas-docs/stable/user_guide/indexing.html#returning-a-view-versus-a-copy\n",
      "  df['log_quantity_tons'] = np.log(df['quantity tons'])\n",
      "C:\\Users\\Jaison Aro\\AppData\\Local\\Temp\\ipykernel_15844\\4035007174.py:7: UserWarning: \n",
      "\n",
      "`distplot` is a deprecated function and will be removed in seaborn v0.14.0.\n",
      "\n",
      "Please adapt your code to use either `displot` (a figure-level function with\n",
      "similar flexibility) or `histplot` (an axes-level function for histograms).\n",
      "\n",
      "For a guide to updating your code to use the new functions, please see\n",
      "https://gist.github.com/mwaskom/de44147ed2974457ad6372750bbe5751\n",
      "\n",
      "  sns.distplot(df['log_quantity_tons'])\n"
     ]
    },
    {
     "data": {
      "image/png": "[encoded data removed]",
      "text/plain": [
       "<Figure size 800x400 with 1 Axes>"
      ]
     },
     "metadata": {},
     "output_type": "display_data"
    }
   ],
   "source": [
    "# log transformation to handle skewness\n",
    "# Apply log transformation\n",
    "df['log_quantity_tons'] = np.log(df['quantity tons'])\n",
    "\n",
    "# Plot transformed data distribution\n",
    "plt.figure(figsize=(8, 4))\n",
    "sns.distplot(df['log_quantity_tons'])\n",
    "plt.title('Histogram of Log-Transformed Quantity (Tons)')\n",
    "plt.xlabel('Log Quantity (Tons)')\n",
    "plt.ylabel('Frequency')\n",
    "plt.show()\n",
    "\n"
   ]
  },
  {
   "cell_type": "code",
   "execution_count": 20,
   "metadata": {
    "colab": {
     "base_uri": "https://localhost:8080/",
     "height": 725
    },
    "id": "jPJ3oAIhGkDm",
    "outputId": "cc6a6386-a8a2-4636-92df-c8290de8ef7b"
   },
   "outputs": [
    {
     "name": "stderr",
     "output_type": "stream",
     "text": [
      "C:\\Users\\Jaison Aro\\AppData\\Local\\Temp\\ipykernel_15844\\1249466989.py:3: SettingWithCopyWarning: \n",
      "A value is trying to be set on a copy of a slice from a DataFrame.\n",
      "Try using .loc[row_indexer,col_indexer] = value instead\n",
      "\n",
      "See the caveats in the documentation: https://pandas.pydata.org/pandas-docs/stable/user_guide/indexing.html#returning-a-view-versus-a-copy\n",
      "  df['log_thickness_tons'] = np.log(df['thickness'])\n",
      "C:\\Users\\Jaison Aro\\AppData\\Local\\Temp\\ipykernel_15844\\1249466989.py:7: UserWarning: \n",
      "\n",
      "`distplot` is a deprecated function and will be removed in seaborn v0.14.0.\n",
      "\n",
      "Please adapt your code to use either `displot` (a figure-level function with\n",
      "similar flexibility) or `histplot` (an axes-level function for histograms).\n",
      "\n",
      "For a guide to updating your code to use the new functions, please see\n",
      "https://gist.github.com/mwaskom/de44147ed2974457ad6372750bbe5751\n",
      "\n",
      "  sns.distplot(df['log_thickness_tons'])\n"
     ]
    },
    {
     "data": {
      "image/png": "[encoded data removed]",
      "text/plain": [
       "<Figure size 800x400 with 1 Axes>"
      ]
     },
     "metadata": {},
     "output_type": "display_data"
    }
   ],
   "source": [
    "# log transformation to handle skewness\n",
    "# Apply log transformation\n",
    "df['log_thickness_tons'] = np.log(df['thickness'])\n",
    "\n",
    "# Plot transformed data distribution\n",
    "plt.figure(figsize=(8, 4))\n",
    "sns.distplot(df['log_thickness_tons'])\n",
    "plt.title('Histogram of Log_thickness_tons')\n",
    "plt.xlabel('Log thickness')\n",
    "plt.ylabel('Frequency')\n",
    "plt.show()\n",
    "\n"
   ]
  },
  {
   "cell_type": "code",
   "execution_count": 21,
   "metadata": {
    "colab": {
     "base_uri": "https://localhost:8080/",
     "height": 785
    },
    "id": "Cz9RRNvQDE6v",
    "outputId": "57ee736a-136d-4254-f064-07e361f94daf"
   },
   "outputs": [
    {
     "name": "stderr",
     "output_type": "stream",
     "text": [
      "C:\\Users\\Jaison Aro\\AppData\\Local\\Temp\\ipykernel_15844\\410091976.py:10: SettingWithCopyWarning: \n",
      "A value is trying to be set on a copy of a slice from a DataFrame.\n",
      "Try using .loc[row_indexer,col_indexer] = value instead\n",
      "\n",
      "See the caveats in the documentation: https://pandas.pydata.org/pandas-docs/stable/user_guide/indexing.html#returning-a-view-versus-a-copy\n",
      "  df['selling_price'] = df['selling_price'].apply(lambda x: x if x > 0 else np.nan)\n"
     ]
    },
    {
     "data": {
      "image/png": "[encoded data removed]",
      "text/plain": [
       "<Figure size 1000x600 with 1 Axes>"
      ]
     },
     "metadata": {},
     "output_type": "display_data"
    }
   ],
   "source": [
    "import pandas as pd\n",
    "import numpy as np\n",
    "import seaborn as sns\n",
    "import matplotlib.pyplot as plt\n",
    "\n",
    "# Sample DataFrame (replace with your actual data)\n",
    "# df = ...\n",
    "\n",
    "# Step 1: Replace zeros and negative values with np.nan\n",
    "df['selling_price'] = df['selling_price'].apply(lambda x: x if x > 0 else np.nan)\n",
    "\n",
    "# Step 2: Drop rows with NaN values in 'selling_price'\n",
    "df = df.dropna(subset=['selling_price'])\n",
    "\n",
    "# Step 3: Apply log transformation\n",
    "df['log_selling_price'] = np.log(df['selling_price'])\n",
    "\n",
    "# Step 4: Detect and remove outliers using IQR\n",
    "Q1 = df['log_selling_price'].quantile(0.25)\n",
    "Q3 = df['log_selling_price'].quantile(0.75)\n",
    "IQR = Q3 - Q1\n",
    "\n",
    "# Step 5: Filter out outliers\n",
    "df = df[~((df['log_selling_price'] < (Q1 - 1.5 * IQR)) | (df['log_selling_price'] > (Q3 + 1.5 * IQR)))]\n",
    "\n",
    "# Step 6: Plot transformed data distribution using histplot\n",
    "plt.figure(figsize=(10, 6))\n",
    "sns.histplot(df['log_selling_price'], kde=True, bins=10)\n",
    "plt.title('Histogram of Log-Transformed Selling Price')\n",
    "plt.xlabel('Log Selling Price')\n",
    "plt.ylabel('Frequency')\n",
    "plt.show()\n"
   ]
  },
  {
   "cell_type": "markdown",
   "metadata": {
    "id": "UGaOOxj-M3PO"
   },
   "source": [
    "After transformation"
   ]
  },
  {
   "cell_type": "code",
   "execution_count": 22,
   "metadata": {
    "colab": {
     "base_uri": "https://localhost:8080/",
     "height": 1000
    },
    "id": "rXDjnbi9MAV2",
    "outputId": "6c93c374-099e-465e-a8f6-882f822f5509"
   },
   "outputs": [
    {
     "data": {
      "image/png": "[encoded data removed]",
      "text/plain": [
       "<Figure size 800x400 with 1 Axes>"
      ]
     },
     "metadata": {},
     "output_type": "display_data"
    },
    {
     "data": {
      "image/png": "[encoded data removed]",
      "text/plain": [
       "<Figure size 800x400 with 1 Axes>"
      ]
     },
     "metadata": {},
     "output_type": "display_data"
    },
    {
     "data": {
      "image/png": "[encoded data removed]",
      "text/plain": [
       "<Figure size 800x400 with 1 Axes>"
      ]
     },
     "metadata": {},
     "output_type": "display_data"
    }
   ],
   "source": [
    "import seaborn as sns\n",
    "import matplotlib.pyplot as plt\n",
    "\n",
    "plt.figure(figsize=(8, 4))\n",
    "sns.boxplot(x=df['log_quantity_tons'])\n",
    "plt.title('Box Plot of quantity_tons')\n",
    "plt.xlabel('quantity_tons')\n",
    "plt.show()\n",
    "import seaborn as sns\n",
    "\n",
    "import matplotlib.pyplot as plt\n",
    "\n",
    "plt.figure(figsize=(8, 4))\n",
    "sns.boxplot(x=df['log_selling_price'])\n",
    "plt.title('Box Plot of selling_price')\n",
    "plt.xlabel('selling_price')\n",
    "plt.show()\n",
    "\n",
    "import seaborn as sns\n",
    "import matplotlib.pyplot as plt\n",
    "\n",
    "plt.figure(figsize=(8, 4))\n",
    "sns.boxplot(x=df['log_thickness_tons'])\n",
    "plt.title('Box Plot of thickness')\n",
    "plt.xlabel('thickness')\n",
    "plt.show()"
   ]
  },
  {
   "cell_type": "code",
   "execution_count": 23,
   "metadata": {},
   "outputs": [
    {
     "data": {
      "text/html": [
       "<div>\n",
       "<style scoped>\n",
       "    .dataframe tbody tr th:only-of-type {\n",
       "        vertical-align: middle;\n",
       "    }\n",
       "\n",
       "    .dataframe tbody tr th {\n",
       "        vertical-align: top;\n",
       "    }\n",
       "\n",
       "    .dataframe thead th {\n",
       "        text-align: right;\n",
       "    }\n",
       "</style>\n",
       "<table border=\"1\" class=\"dataframe\">\n",
       "  <thead>\n",
       "    <tr style=\"text-align: right;\">\n",
       "      <th></th>\n",
       "      <th>id</th>\n",
       "      <th>item_date</th>\n",
       "      <th>quantity tons</th>\n",
       "      <th>customer</th>\n",
       "      <th>country</th>\n",
       "      <th>status</th>\n",
       "      <th>item type</th>\n",
       "      <th>application</th>\n",
       "      <th>thickness</th>\n",
       "      <th>width</th>\n",
       "      <th>material_ref</th>\n",
       "      <th>product_ref</th>\n",
       "      <th>delivery date</th>\n",
       "      <th>selling_price</th>\n",
       "      <th>log_quantity_tons</th>\n",
       "      <th>log_thickness_tons</th>\n",
       "      <th>log_selling_price</th>\n",
       "    </tr>\n",
       "  </thead>\n",
       "  <tbody>\n",
       "    <tr>\n",
       "      <th>0</th>\n",
       "      <td>EC06F063-9DF0-440C-8764-0B0C05A4F6AE</td>\n",
       "      <td>2021-04-01</td>\n",
       "      <td>54.151139</td>\n",
       "      <td>30156308.0</td>\n",
       "      <td>28.0</td>\n",
       "      <td>Won</td>\n",
       "      <td>W</td>\n",
       "      <td>10.0</td>\n",
       "      <td>2.00</td>\n",
       "      <td>1500.0</td>\n",
       "      <td>DEQ1 S460MC</td>\n",
       "      <td>1670798778</td>\n",
       "      <td>2021-07-01</td>\n",
       "      <td>854.00</td>\n",
       "      <td>3.991779</td>\n",
       "      <td>0.693147</td>\n",
       "      <td>6.749931</td>\n",
       "    </tr>\n",
       "    <tr>\n",
       "      <th>1</th>\n",
       "      <td>4E5F4B3D-DDDF-499D-AFDE-A3227EC49425</td>\n",
       "      <td>2021-04-01</td>\n",
       "      <td>768.024839</td>\n",
       "      <td>30202938.0</td>\n",
       "      <td>25.0</td>\n",
       "      <td>Won</td>\n",
       "      <td>W</td>\n",
       "      <td>41.0</td>\n",
       "      <td>0.80</td>\n",
       "      <td>1210.0</td>\n",
       "      <td>104991</td>\n",
       "      <td>1668701718</td>\n",
       "      <td>2021-04-01</td>\n",
       "      <td>1047.00</td>\n",
       "      <td>6.643822</td>\n",
       "      <td>-0.223144</td>\n",
       "      <td>6.953684</td>\n",
       "    </tr>\n",
       "    <tr>\n",
       "      <th>2</th>\n",
       "      <td>E140FF1B-2407-4C02-A0DD-780A093B1158</td>\n",
       "      <td>2021-04-01</td>\n",
       "      <td>386.127949</td>\n",
       "      <td>30153963.0</td>\n",
       "      <td>30.0</td>\n",
       "      <td>Won</td>\n",
       "      <td>WI</td>\n",
       "      <td>28.0</td>\n",
       "      <td>0.38</td>\n",
       "      <td>952.0</td>\n",
       "      <td>S0380700</td>\n",
       "      <td>628377</td>\n",
       "      <td>2021-01-01</td>\n",
       "      <td>644.33</td>\n",
       "      <td>5.956169</td>\n",
       "      <td>-0.967584</td>\n",
       "      <td>6.468211</td>\n",
       "    </tr>\n",
       "    <tr>\n",
       "      <th>3</th>\n",
       "      <td>F8D507A0-9C62-4EFE-831E-33E1DA53BB50</td>\n",
       "      <td>2021-04-01</td>\n",
       "      <td>202.411065</td>\n",
       "      <td>30349574.0</td>\n",
       "      <td>32.0</td>\n",
       "      <td>Won</td>\n",
       "      <td>S</td>\n",
       "      <td>59.0</td>\n",
       "      <td>2.30</td>\n",
       "      <td>1317.0</td>\n",
       "      <td>DX51D+ZM310MAO 2.3X1317</td>\n",
       "      <td>1668701718</td>\n",
       "      <td>2021-01-01</td>\n",
       "      <td>768.00</td>\n",
       "      <td>5.310301</td>\n",
       "      <td>0.832909</td>\n",
       "      <td>6.643790</td>\n",
       "    </tr>\n",
       "    <tr>\n",
       "      <th>4</th>\n",
       "      <td>4E1C4E78-152B-430A-8094-ADD889C9D0AD</td>\n",
       "      <td>2021-04-01</td>\n",
       "      <td>785.526262</td>\n",
       "      <td>30211560.0</td>\n",
       "      <td>28.0</td>\n",
       "      <td>Won</td>\n",
       "      <td>W</td>\n",
       "      <td>10.0</td>\n",
       "      <td>4.00</td>\n",
       "      <td>2000.0</td>\n",
       "      <td>2_S275JR+AR-CL1</td>\n",
       "      <td>640665</td>\n",
       "      <td>2021-03-01</td>\n",
       "      <td>577.00</td>\n",
       "      <td>6.666354</td>\n",
       "      <td>1.386294</td>\n",
       "      <td>6.357842</td>\n",
       "    </tr>\n",
       "    <tr>\n",
       "      <th>...</th>\n",
       "      <td>...</td>\n",
       "      <td>...</td>\n",
       "      <td>...</td>\n",
       "      <td>...</td>\n",
       "      <td>...</td>\n",
       "      <td>...</td>\n",
       "      <td>...</td>\n",
       "      <td>...</td>\n",
       "      <td>...</td>\n",
       "      <td>...</td>\n",
       "      <td>...</td>\n",
       "      <td>...</td>\n",
       "      <td>...</td>\n",
       "      <td>...</td>\n",
       "      <td>...</td>\n",
       "      <td>...</td>\n",
       "      <td>...</td>\n",
       "    </tr>\n",
       "    <tr>\n",
       "      <th>181668</th>\n",
       "      <td>DE633116-D1DF-4846-982E-55EFC3658A76</td>\n",
       "      <td>2020-07-02</td>\n",
       "      <td>102.482422</td>\n",
       "      <td>30200854.0</td>\n",
       "      <td>25.0</td>\n",
       "      <td>Won</td>\n",
       "      <td>W</td>\n",
       "      <td>41.0</td>\n",
       "      <td>0.96</td>\n",
       "      <td>1220.0</td>\n",
       "      <td>1000777</td>\n",
       "      <td>164141591</td>\n",
       "      <td>2020-07-01</td>\n",
       "      <td>591.00</td>\n",
       "      <td>4.629691</td>\n",
       "      <td>-0.040822</td>\n",
       "      <td>6.381816</td>\n",
       "    </tr>\n",
       "    <tr>\n",
       "      <th>181669</th>\n",
       "      <td>A48374B1-E6DB-45F2-889A-1F9C27C099EB</td>\n",
       "      <td>2020-07-02</td>\n",
       "      <td>208.086469</td>\n",
       "      <td>30200854.0</td>\n",
       "      <td>25.0</td>\n",
       "      <td>Won</td>\n",
       "      <td>W</td>\n",
       "      <td>41.0</td>\n",
       "      <td>0.95</td>\n",
       "      <td>1500.0</td>\n",
       "      <td>1000227</td>\n",
       "      <td>164141591</td>\n",
       "      <td>2020-07-01</td>\n",
       "      <td>589.00</td>\n",
       "      <td>5.337954</td>\n",
       "      <td>-0.051293</td>\n",
       "      <td>6.378426</td>\n",
       "    </tr>\n",
       "    <tr>\n",
       "      <th>181670</th>\n",
       "      <td>91643238-5C7B-4237-9A5F-63AE3D35F320</td>\n",
       "      <td>2020-07-02</td>\n",
       "      <td>4.235594</td>\n",
       "      <td>30200854.0</td>\n",
       "      <td>25.0</td>\n",
       "      <td>Won</td>\n",
       "      <td>W</td>\n",
       "      <td>41.0</td>\n",
       "      <td>0.71</td>\n",
       "      <td>1250.0</td>\n",
       "      <td>1004216</td>\n",
       "      <td>164141591</td>\n",
       "      <td>2020-07-01</td>\n",
       "      <td>619.00</td>\n",
       "      <td>1.443523</td>\n",
       "      <td>-0.342490</td>\n",
       "      <td>6.428105</td>\n",
       "    </tr>\n",
       "    <tr>\n",
       "      <th>181671</th>\n",
       "      <td>7AFFD323-01D9-4E15-B80D-7D1B03498FC8</td>\n",
       "      <td>2020-07-02</td>\n",
       "      <td>-2000.000000</td>\n",
       "      <td>30200854.0</td>\n",
       "      <td>25.0</td>\n",
       "      <td>Won</td>\n",
       "      <td>W</td>\n",
       "      <td>41.0</td>\n",
       "      <td>0.85</td>\n",
       "      <td>1250.0</td>\n",
       "      <td>1001149</td>\n",
       "      <td>164141591</td>\n",
       "      <td>2020-07-01</td>\n",
       "      <td>601.00</td>\n",
       "      <td>NaN</td>\n",
       "      <td>-0.162519</td>\n",
       "      <td>6.398595</td>\n",
       "    </tr>\n",
       "    <tr>\n",
       "      <th>181672</th>\n",
       "      <td>AD0CA853-AE3C-4B2F-9FBB-8B0B965F84BC</td>\n",
       "      <td>2020-07-02</td>\n",
       "      <td>406.686538</td>\n",
       "      <td>30200854.0</td>\n",
       "      <td>25.0</td>\n",
       "      <td>Won</td>\n",
       "      <td>W</td>\n",
       "      <td>41.0</td>\n",
       "      <td>0.71</td>\n",
       "      <td>1240.0</td>\n",
       "      <td>1005439</td>\n",
       "      <td>164141591</td>\n",
       "      <td>2020-07-01</td>\n",
       "      <td>607.00</td>\n",
       "      <td>6.008043</td>\n",
       "      <td>-0.342490</td>\n",
       "      <td>6.408529</td>\n",
       "    </tr>\n",
       "  </tbody>\n",
       "</table>\n",
       "<p>178203 rows × 17 columns</p>\n",
       "</div>"
      ],
      "text/plain": [
       "                                          id  item_date  quantity tons  \\\n",
       "0       EC06F063-9DF0-440C-8764-0B0C05A4F6AE 2021-04-01      54.151139   \n",
       "1       4E5F4B3D-DDDF-499D-AFDE-A3227EC49425 2021-04-01     768.024839   \n",
       "2       E140FF1B-2407-4C02-A0DD-780A093B1158 2021-04-01     386.127949   \n",
       "3       F8D507A0-9C62-4EFE-831E-33E1DA53BB50 2021-04-01     202.411065   \n",
       "4       4E1C4E78-152B-430A-8094-ADD889C9D0AD 2021-04-01     785.526262   \n",
       "...                                      ...        ...            ...   \n",
       "181668  DE633116-D1DF-4846-982E-55EFC3658A76 2020-07-02     102.482422   \n",
       "181669  A48374B1-E6DB-45F2-889A-1F9C27C099EB 2020-07-02     208.086469   \n",
       "181670  91643238-5C7B-4237-9A5F-63AE3D35F320 2020-07-02       4.235594   \n",
       "181671  7AFFD323-01D9-4E15-B80D-7D1B03498FC8 2020-07-02   -2000.000000   \n",
       "181672  AD0CA853-AE3C-4B2F-9FBB-8B0B965F84BC 2020-07-02     406.686538   \n",
       "\n",
       "          customer  country status item type  application  thickness   width  \\\n",
       "0       30156308.0     28.0    Won         W         10.0       2.00  1500.0   \n",
       "1       30202938.0     25.0    Won         W         41.0       0.80  1210.0   \n",
       "2       30153963.0     30.0    Won        WI         28.0       0.38   952.0   \n",
       "3       30349574.0     32.0    Won         S         59.0       2.30  1317.0   \n",
       "4       30211560.0     28.0    Won         W         10.0       4.00  2000.0   \n",
       "...            ...      ...    ...       ...          ...        ...     ...   \n",
       "181668  30200854.0     25.0    Won         W         41.0       0.96  1220.0   \n",
       "181669  30200854.0     25.0    Won         W         41.0       0.95  1500.0   \n",
       "181670  30200854.0     25.0    Won         W         41.0       0.71  1250.0   \n",
       "181671  30200854.0     25.0    Won         W         41.0       0.85  1250.0   \n",
       "181672  30200854.0     25.0    Won         W         41.0       0.71  1240.0   \n",
       "\n",
       "                   material_ref  product_ref delivery date  selling_price  \\\n",
       "0                   DEQ1 S460MC   1670798778    2021-07-01         854.00   \n",
       "1                        104991   1668701718    2021-04-01        1047.00   \n",
       "2                      S0380700       628377    2021-01-01         644.33   \n",
       "3       DX51D+ZM310MAO 2.3X1317   1668701718    2021-01-01         768.00   \n",
       "4               2_S275JR+AR-CL1       640665    2021-03-01         577.00   \n",
       "...                         ...          ...           ...            ...   \n",
       "181668                  1000777    164141591    2020-07-01         591.00   \n",
       "181669                  1000227    164141591    2020-07-01         589.00   \n",
       "181670                  1004216    164141591    2020-07-01         619.00   \n",
       "181671                  1001149    164141591    2020-07-01         601.00   \n",
       "181672                  1005439    164141591    2020-07-01         607.00   \n",
       "\n",
       "        log_quantity_tons  log_thickness_tons  log_selling_price  \n",
       "0                3.991779            0.693147           6.749931  \n",
       "1                6.643822           -0.223144           6.953684  \n",
       "2                5.956169           -0.967584           6.468211  \n",
       "3                5.310301            0.832909           6.643790  \n",
       "4                6.666354            1.386294           6.357842  \n",
       "...                   ...                 ...                ...  \n",
       "181668           4.629691           -0.040822           6.381816  \n",
       "181669           5.337954           -0.051293           6.378426  \n",
       "181670           1.443523           -0.342490           6.428105  \n",
       "181671                NaN           -0.162519           6.398595  \n",
       "181672           6.008043           -0.342490           6.408529  \n",
       "\n",
       "[178203 rows x 17 columns]"
      ]
     },
     "execution_count": 23,
     "metadata": {},
     "output_type": "execute_result"
    }
   ],
   "source": [
    "df"
   ]
  },
  {
   "cell_type": "code",
   "execution_count": 65,
   "metadata": {},
   "outputs": [
    {
     "data": {
      "text/html": [
       "<div>\n",
       "<style scoped>\n",
       "    .dataframe tbody tr th:only-of-type {\n",
       "        vertical-align: middle;\n",
       "    }\n",
       "\n",
       "    .dataframe tbody tr th {\n",
       "        vertical-align: top;\n",
       "    }\n",
       "\n",
       "    .dataframe thead th {\n",
       "        text-align: right;\n",
       "    }\n",
       "</style>\n",
       "<table border=\"1\" class=\"dataframe\">\n",
       "  <thead>\n",
       "    <tr style=\"text-align: right;\">\n",
       "      <th></th>\n",
       "      <th>id</th>\n",
       "      <th>item_date</th>\n",
       "      <th>quantity tons</th>\n",
       "      <th>customer</th>\n",
       "      <th>country</th>\n",
       "      <th>status</th>\n",
       "      <th>item type</th>\n",
       "      <th>application</th>\n",
       "      <th>thickness</th>\n",
       "      <th>width</th>\n",
       "      <th>material_ref</th>\n",
       "      <th>product_ref</th>\n",
       "      <th>delivery date</th>\n",
       "      <th>selling_price</th>\n",
       "      <th>log_quantity_tons</th>\n",
       "      <th>log_thickness_tons</th>\n",
       "      <th>log_selling_price</th>\n",
       "    </tr>\n",
       "  </thead>\n",
       "  <tbody>\n",
       "    <tr>\n",
       "      <th>171</th>\n",
       "      <td>C0BF3187-C4B3-4C63-ABDB-FCB0642A69C0</td>\n",
       "      <td>2021-04-01</td>\n",
       "      <td>8.718789</td>\n",
       "      <td>30223403.0</td>\n",
       "      <td>78.0</td>\n",
       "      <td>Lost</td>\n",
       "      <td>W</td>\n",
       "      <td>10.0</td>\n",
       "      <td>1.00</td>\n",
       "      <td>1500.0</td>\n",
       "      <td>missing</td>\n",
       "      <td>1668701718</td>\n",
       "      <td>2021-07-01</td>\n",
       "      <td>1253.0</td>\n",
       "      <td>2.165480</td>\n",
       "      <td>0.000000</td>\n",
       "      <td>7.133296</td>\n",
       "    </tr>\n",
       "    <tr>\n",
       "      <th>174</th>\n",
       "      <td>66D8E20C-AF4A-47D7-8FDD-51DEA6EA1F05</td>\n",
       "      <td>2021-04-01</td>\n",
       "      <td>39.553513</td>\n",
       "      <td>30165992.0</td>\n",
       "      <td>77.0</td>\n",
       "      <td>Lost</td>\n",
       "      <td>S</td>\n",
       "      <td>10.0</td>\n",
       "      <td>1.00</td>\n",
       "      <td>1500.0</td>\n",
       "      <td>FZPA004640</td>\n",
       "      <td>164141591</td>\n",
       "      <td>2021-08-01</td>\n",
       "      <td>1225.0</td>\n",
       "      <td>3.677655</td>\n",
       "      <td>0.000000</td>\n",
       "      <td>7.110696</td>\n",
       "    </tr>\n",
       "    <tr>\n",
       "      <th>175</th>\n",
       "      <td>4532B5EF-0446-4880-BC8E-242E89AB8DD6</td>\n",
       "      <td>2021-04-01</td>\n",
       "      <td>11.454558</td>\n",
       "      <td>30223403.0</td>\n",
       "      <td>78.0</td>\n",
       "      <td>Lost</td>\n",
       "      <td>W</td>\n",
       "      <td>10.0</td>\n",
       "      <td>4.00</td>\n",
       "      <td>1500.0</td>\n",
       "      <td>missing</td>\n",
       "      <td>1668701718</td>\n",
       "      <td>2021-07-01</td>\n",
       "      <td>1186.0</td>\n",
       "      <td>2.438388</td>\n",
       "      <td>1.386294</td>\n",
       "      <td>7.078342</td>\n",
       "    </tr>\n",
       "    <tr>\n",
       "      <th>176</th>\n",
       "      <td>EE0BA8DE-38E9-4101-ADF9-B7B5B19A3525</td>\n",
       "      <td>2021-04-01</td>\n",
       "      <td>37.655526</td>\n",
       "      <td>30165992.0</td>\n",
       "      <td>77.0</td>\n",
       "      <td>Lost</td>\n",
       "      <td>S</td>\n",
       "      <td>10.0</td>\n",
       "      <td>0.80</td>\n",
       "      <td>1250.0</td>\n",
       "      <td>FZPA004640</td>\n",
       "      <td>164141591</td>\n",
       "      <td>2021-08-01</td>\n",
       "      <td>1249.0</td>\n",
       "      <td>3.628480</td>\n",
       "      <td>-0.223144</td>\n",
       "      <td>7.130099</td>\n",
       "    </tr>\n",
       "    <tr>\n",
       "      <th>179</th>\n",
       "      <td>1CDD04C3-6310-431F-B10A-F1C6B4F529DD</td>\n",
       "      <td>2021-04-01</td>\n",
       "      <td>10.291602</td>\n",
       "      <td>30223403.0</td>\n",
       "      <td>78.0</td>\n",
       "      <td>Lost</td>\n",
       "      <td>W</td>\n",
       "      <td>10.0</td>\n",
       "      <td>0.80</td>\n",
       "      <td>1500.0</td>\n",
       "      <td>missing</td>\n",
       "      <td>1668701718</td>\n",
       "      <td>2021-07-01</td>\n",
       "      <td>1284.0</td>\n",
       "      <td>2.331328</td>\n",
       "      <td>-0.223144</td>\n",
       "      <td>7.157735</td>\n",
       "    </tr>\n",
       "    <tr>\n",
       "      <th>...</th>\n",
       "      <td>...</td>\n",
       "      <td>...</td>\n",
       "      <td>...</td>\n",
       "      <td>...</td>\n",
       "      <td>...</td>\n",
       "      <td>...</td>\n",
       "      <td>...</td>\n",
       "      <td>...</td>\n",
       "      <td>...</td>\n",
       "      <td>...</td>\n",
       "      <td>...</td>\n",
       "      <td>...</td>\n",
       "      <td>...</td>\n",
       "      <td>...</td>\n",
       "      <td>...</td>\n",
       "      <td>...</td>\n",
       "      <td>...</td>\n",
       "    </tr>\n",
       "    <tr>\n",
       "      <th>181527</th>\n",
       "      <td>A30A09D6-6527-4BE3-B2EC-B795F94A70DD</td>\n",
       "      <td>2020-07-02</td>\n",
       "      <td>63.859521</td>\n",
       "      <td>30161559.0</td>\n",
       "      <td>30.0</td>\n",
       "      <td>Lost</td>\n",
       "      <td>S</td>\n",
       "      <td>10.0</td>\n",
       "      <td>5.85</td>\n",
       "      <td>1525.0</td>\n",
       "      <td>missing</td>\n",
       "      <td>640665</td>\n",
       "      <td>2020-08-01</td>\n",
       "      <td>457.0</td>\n",
       "      <td>4.156686</td>\n",
       "      <td>1.766442</td>\n",
       "      <td>6.124683</td>\n",
       "    </tr>\n",
       "    <tr>\n",
       "      <th>181529</th>\n",
       "      <td>BD9B7299-6FD2-4A9F-B336-5F677794A03F</td>\n",
       "      <td>2020-07-02</td>\n",
       "      <td>56.028562</td>\n",
       "      <td>30161559.0</td>\n",
       "      <td>30.0</td>\n",
       "      <td>Lost</td>\n",
       "      <td>S</td>\n",
       "      <td>10.0</td>\n",
       "      <td>7.85</td>\n",
       "      <td>1500.0</td>\n",
       "      <td>missing</td>\n",
       "      <td>640665</td>\n",
       "      <td>2020-08-01</td>\n",
       "      <td>458.0</td>\n",
       "      <td>4.025862</td>\n",
       "      <td>2.060514</td>\n",
       "      <td>6.126869</td>\n",
       "    </tr>\n",
       "    <tr>\n",
       "      <th>181531</th>\n",
       "      <td>BF93A919-5970-428F-9467-7A2D0573C5C6</td>\n",
       "      <td>2020-07-02</td>\n",
       "      <td>206.224110</td>\n",
       "      <td>30161559.0</td>\n",
       "      <td>30.0</td>\n",
       "      <td>Lost</td>\n",
       "      <td>S</td>\n",
       "      <td>10.0</td>\n",
       "      <td>3.85</td>\n",
       "      <td>1830.0</td>\n",
       "      <td>missing</td>\n",
       "      <td>640665</td>\n",
       "      <td>2020-08-01</td>\n",
       "      <td>460.0</td>\n",
       "      <td>5.328963</td>\n",
       "      <td>1.348073</td>\n",
       "      <td>6.131226</td>\n",
       "    </tr>\n",
       "    <tr>\n",
       "      <th>181533</th>\n",
       "      <td>FA54AED7-360E-4DED-96AA-F69D127267B8</td>\n",
       "      <td>2020-07-02</td>\n",
       "      <td>102.993849</td>\n",
       "      <td>30198408.0</td>\n",
       "      <td>25.0</td>\n",
       "      <td>Lost</td>\n",
       "      <td>S</td>\n",
       "      <td>10.0</td>\n",
       "      <td>1.40</td>\n",
       "      <td>1150.0</td>\n",
       "      <td>missing</td>\n",
       "      <td>1668701718</td>\n",
       "      <td>2020-07-01</td>\n",
       "      <td>725.0</td>\n",
       "      <td>4.634669</td>\n",
       "      <td>0.336472</td>\n",
       "      <td>6.586172</td>\n",
       "    </tr>\n",
       "    <tr>\n",
       "      <th>181535</th>\n",
       "      <td>2D65F26A-E56A-4FF4-B586-6E361980EE0A</td>\n",
       "      <td>2020-07-02</td>\n",
       "      <td>106.072262</td>\n",
       "      <td>30198408.0</td>\n",
       "      <td>25.0</td>\n",
       "      <td>Lost</td>\n",
       "      <td>S</td>\n",
       "      <td>10.0</td>\n",
       "      <td>1.40</td>\n",
       "      <td>1146.0</td>\n",
       "      <td>missing</td>\n",
       "      <td>1668701718</td>\n",
       "      <td>2020-07-01</td>\n",
       "      <td>727.0</td>\n",
       "      <td>4.664121</td>\n",
       "      <td>0.336472</td>\n",
       "      <td>6.588926</td>\n",
       "    </tr>\n",
       "  </tbody>\n",
       "</table>\n",
       "<p>34415 rows × 17 columns</p>\n",
       "</div>"
      ],
      "text/plain": [
       "                                          id  item_date  quantity tons  \\\n",
       "171     C0BF3187-C4B3-4C63-ABDB-FCB0642A69C0 2021-04-01       8.718789   \n",
       "174     66D8E20C-AF4A-47D7-8FDD-51DEA6EA1F05 2021-04-01      39.553513   \n",
       "175     4532B5EF-0446-4880-BC8E-242E89AB8DD6 2021-04-01      11.454558   \n",
       "176     EE0BA8DE-38E9-4101-ADF9-B7B5B19A3525 2021-04-01      37.655526   \n",
       "179     1CDD04C3-6310-431F-B10A-F1C6B4F529DD 2021-04-01      10.291602   \n",
       "...                                      ...        ...            ...   \n",
       "181527  A30A09D6-6527-4BE3-B2EC-B795F94A70DD 2020-07-02      63.859521   \n",
       "181529  BD9B7299-6FD2-4A9F-B336-5F677794A03F 2020-07-02      56.028562   \n",
       "181531  BF93A919-5970-428F-9467-7A2D0573C5C6 2020-07-02     206.224110   \n",
       "181533  FA54AED7-360E-4DED-96AA-F69D127267B8 2020-07-02     102.993849   \n",
       "181535  2D65F26A-E56A-4FF4-B586-6E361980EE0A 2020-07-02     106.072262   \n",
       "\n",
       "          customer  country status item type  application  thickness   width  \\\n",
       "171     30223403.0     78.0   Lost         W         10.0       1.00  1500.0   \n",
       "174     30165992.0     77.0   Lost         S         10.0       1.00  1500.0   \n",
       "175     30223403.0     78.0   Lost         W         10.0       4.00  1500.0   \n",
       "176     30165992.0     77.0   Lost         S         10.0       0.80  1250.0   \n",
       "179     30223403.0     78.0   Lost         W         10.0       0.80  1500.0   \n",
       "...            ...      ...    ...       ...          ...        ...     ...   \n",
       "181527  30161559.0     30.0   Lost         S         10.0       5.85  1525.0   \n",
       "181529  30161559.0     30.0   Lost         S         10.0       7.85  1500.0   \n",
       "181531  30161559.0     30.0   Lost         S         10.0       3.85  1830.0   \n",
       "181533  30198408.0     25.0   Lost         S         10.0       1.40  1150.0   \n",
       "181535  30198408.0     25.0   Lost         S         10.0       1.40  1146.0   \n",
       "\n",
       "       material_ref  product_ref delivery date  selling_price  \\\n",
       "171         missing   1668701718    2021-07-01         1253.0   \n",
       "174      FZPA004640    164141591    2021-08-01         1225.0   \n",
       "175         missing   1668701718    2021-07-01         1186.0   \n",
       "176      FZPA004640    164141591    2021-08-01         1249.0   \n",
       "179         missing   1668701718    2021-07-01         1284.0   \n",
       "...             ...          ...           ...            ...   \n",
       "181527      missing       640665    2020-08-01          457.0   \n",
       "181529      missing       640665    2020-08-01          458.0   \n",
       "181531      missing       640665    2020-08-01          460.0   \n",
       "181533      missing   1668701718    2020-07-01          725.0   \n",
       "181535      missing   1668701718    2020-07-01          727.0   \n",
       "\n",
       "        log_quantity_tons  log_thickness_tons  log_selling_price  \n",
       "171              2.165480            0.000000           7.133296  \n",
       "174              3.677655            0.000000           7.110696  \n",
       "175              2.438388            1.386294           7.078342  \n",
       "176              3.628480           -0.223144           7.130099  \n",
       "179              2.331328           -0.223144           7.157735  \n",
       "...                   ...                 ...                ...  \n",
       "181527           4.156686            1.766442           6.124683  \n",
       "181529           4.025862            2.060514           6.126869  \n",
       "181531           5.328963            1.348073           6.131226  \n",
       "181533           4.634669            0.336472           6.586172  \n",
       "181535           4.664121            0.336472           6.588926  \n",
       "\n",
       "[34415 rows x 17 columns]"
      ]
     },
     "execution_count": 65,
     "metadata": {},
     "output_type": "execute_result"
    }
   ],
   "source": [
    "# Assuming 'df' is your DataFrame and 'status' is the column name\n",
    "lost_df = df[df['status'] == 'Lost']\n",
    "lost_df"
   ]
  },
  {
   "cell_type": "code",
   "execution_count": 66,
   "metadata": {
    "colab": {
     "base_uri": "https://localhost:8080/"
    },
    "id": "yWj9HYG6xbDT",
    "outputId": "7bfe39be-b9d3-4217-ed01-ea831f0e039d"
   },
   "outputs": [
    {
     "data": {
      "text/plain": [
       "Index(['id', 'item_date', 'quantity tons', 'customer', 'country', 'status',\n",
       "       'item type', 'application', 'thickness', 'width', 'material_ref',\n",
       "       'product_ref', 'delivery date', 'selling_price', 'log_quantity_tons',\n",
       "       'log_thickness_tons', 'log_selling_price'],\n",
       "      dtype='object')"
      ]
     },
     "execution_count": 66,
     "metadata": {},
     "output_type": "execute_result"
    }
   ],
   "source": [
    "df.columns"
   ]
  },
  {
   "cell_type": "code",
   "execution_count": 67,
   "metadata": {
    "id": "UZl0ESpa5qF8"
   },
   "outputs": [],
   "source": [
    "df_dropna = df.dropna()"
   ]
  },
  {
   "cell_type": "code",
   "execution_count": 68,
   "metadata": {
    "colab": {
     "base_uri": "https://localhost:8080/",
     "height": 441
    },
    "id": "sk0ID2B0r0jS",
    "outputId": "301bfe9b-32ca-4963-d97e-1168a3959a36"
   },
   "outputs": [
    {
     "data": {
      "text/html": [
       "<div>\n",
       "<style scoped>\n",
       "    .dataframe tbody tr th:only-of-type {\n",
       "        vertical-align: middle;\n",
       "    }\n",
       "\n",
       "    .dataframe tbody tr th {\n",
       "        vertical-align: top;\n",
       "    }\n",
       "\n",
       "    .dataframe thead th {\n",
       "        text-align: right;\n",
       "    }\n",
       "</style>\n",
       "<table border=\"1\" class=\"dataframe\">\n",
       "  <thead>\n",
       "    <tr style=\"text-align: right;\">\n",
       "      <th></th>\n",
       "      <th>item_date</th>\n",
       "      <th>quantity tons</th>\n",
       "      <th>customer</th>\n",
       "      <th>country</th>\n",
       "      <th>application</th>\n",
       "      <th>thickness</th>\n",
       "      <th>width</th>\n",
       "      <th>product_ref</th>\n",
       "      <th>selling_price</th>\n",
       "      <th>log_quantity_tons</th>\n",
       "      <th>log_thickness_tons</th>\n",
       "      <th>log_selling_price</th>\n",
       "    </tr>\n",
       "  </thead>\n",
       "  <tbody>\n",
       "    <tr>\n",
       "      <th>count</th>\n",
       "      <td>178203</td>\n",
       "      <td>1.782030e+05</td>\n",
       "      <td>1.782030e+05</td>\n",
       "      <td>178203.000000</td>\n",
       "      <td>178203.000000</td>\n",
       "      <td>178203.000000</td>\n",
       "      <td>178203.000000</td>\n",
       "      <td>1.782030e+05</td>\n",
       "      <td>178203.000000</td>\n",
       "      <td>178200.000000</td>\n",
       "      <td>178203.000000</td>\n",
       "      <td>178203.000000</td>\n",
       "    </tr>\n",
       "    <tr>\n",
       "      <th>mean</th>\n",
       "      <td>2020-11-26 09:47:34.679214080</td>\n",
       "      <td>5.988267e+03</td>\n",
       "      <td>3.023276e+07</td>\n",
       "      <td>44.809627</td>\n",
       "      <td>25.502287</td>\n",
       "      <td>2.567932</td>\n",
       "      <td>1296.188821</td>\n",
       "      <td>4.784503e+08</td>\n",
       "      <td>829.004458</td>\n",
       "      <td>3.403317</td>\n",
       "      <td>0.488656</td>\n",
       "      <td>6.692064</td>\n",
       "    </tr>\n",
       "    <tr>\n",
       "      <th>min</th>\n",
       "      <td>2020-07-02 00:00:00</td>\n",
       "      <td>-2.000000e+03</td>\n",
       "      <td>1.245800e+04</td>\n",
       "      <td>25.000000</td>\n",
       "      <td>2.000000</td>\n",
       "      <td>0.180000</td>\n",
       "      <td>1.000000</td>\n",
       "      <td>6.117280e+05</td>\n",
       "      <td>396.000000</td>\n",
       "      <td>-11.512925</td>\n",
       "      <td>-1.714798</td>\n",
       "      <td>5.981414</td>\n",
       "    </tr>\n",
       "    <tr>\n",
       "      <th>25%</th>\n",
       "      <td>2020-09-28 00:00:00</td>\n",
       "      <td>1.134655e+01</td>\n",
       "      <td>3.019688e+07</td>\n",
       "      <td>26.000000</td>\n",
       "      <td>10.000000</td>\n",
       "      <td>0.700000</td>\n",
       "      <td>1180.000000</td>\n",
       "      <td>6.281170e+05</td>\n",
       "      <td>676.000000</td>\n",
       "      <td>2.428968</td>\n",
       "      <td>-0.356675</td>\n",
       "      <td>6.516193</td>\n",
       "    </tr>\n",
       "    <tr>\n",
       "      <th>50%</th>\n",
       "      <td>2020-11-30 00:00:00</td>\n",
       "      <td>3.049878e+01</td>\n",
       "      <td>3.020531e+07</td>\n",
       "      <td>30.000000</td>\n",
       "      <td>15.000000</td>\n",
       "      <td>1.500000</td>\n",
       "      <td>1250.000000</td>\n",
       "      <td>6.406650e+05</td>\n",
       "      <td>816.000000</td>\n",
       "      <td>3.417713</td>\n",
       "      <td>0.405465</td>\n",
       "      <td>6.704414</td>\n",
       "    </tr>\n",
       "    <tr>\n",
       "      <th>75%</th>\n",
       "      <td>2021-02-03 00:00:00</td>\n",
       "      <td>6.767225e+01</td>\n",
       "      <td>3.028042e+07</td>\n",
       "      <td>78.000000</td>\n",
       "      <td>41.000000</td>\n",
       "      <td>3.000000</td>\n",
       "      <td>1500.000000</td>\n",
       "      <td>1.332077e+09</td>\n",
       "      <td>955.365000</td>\n",
       "      <td>4.214698</td>\n",
       "      <td>1.098612</td>\n",
       "      <td>6.862093</td>\n",
       "    </tr>\n",
       "    <tr>\n",
       "      <th>max</th>\n",
       "      <td>2021-04-01 00:00:00</td>\n",
       "      <td>1.000000e+09</td>\n",
       "      <td>3.040818e+07</td>\n",
       "      <td>113.000000</td>\n",
       "      <td>99.000000</td>\n",
       "      <td>400.000000</td>\n",
       "      <td>2990.000000</td>\n",
       "      <td>1.722208e+09</td>\n",
       "      <td>1620.000000</td>\n",
       "      <td>20.723266</td>\n",
       "      <td>5.991465</td>\n",
       "      <td>7.390181</td>\n",
       "    </tr>\n",
       "    <tr>\n",
       "      <th>std</th>\n",
       "      <td>NaN</td>\n",
       "      <td>2.371835e+06</td>\n",
       "      <td>1.009649e+05</td>\n",
       "      <td>24.396428</td>\n",
       "      <td>17.756327</td>\n",
       "      <td>2.988900</td>\n",
       "      <td>261.530200</td>\n",
       "      <td>7.197379e+08</td>\n",
       "      <td>197.420291</td>\n",
       "      <td>1.442499</td>\n",
       "      <td>0.932259</td>\n",
       "      <td>0.238183</td>\n",
       "    </tr>\n",
       "  </tbody>\n",
       "</table>\n",
       "</div>"
      ],
      "text/plain": [
       "                           item_date  quantity tons      customer  \\\n",
       "count                         178203   1.782030e+05  1.782030e+05   \n",
       "mean   2020-11-26 09:47:34.679214080   5.988267e+03  3.023276e+07   \n",
       "min              2020-07-02 00:00:00  -2.000000e+03  1.245800e+04   \n",
       "25%              2020-09-28 00:00:00   1.134655e+01  3.019688e+07   \n",
       "50%              2020-11-30 00:00:00   3.049878e+01  3.020531e+07   \n",
       "75%              2021-02-03 00:00:00   6.767225e+01  3.028042e+07   \n",
       "max              2021-04-01 00:00:00   1.000000e+09  3.040818e+07   \n",
       "std                              NaN   2.371835e+06  1.009649e+05   \n",
       "\n",
       "             country    application      thickness          width  \\\n",
       "count  178203.000000  178203.000000  178203.000000  178203.000000   \n",
       "mean       44.809627      25.502287       2.567932    1296.188821   \n",
       "min        25.000000       2.000000       0.180000       1.000000   \n",
       "25%        26.000000      10.000000       0.700000    1180.000000   \n",
       "50%        30.000000      15.000000       1.500000    1250.000000   \n",
       "75%        78.000000      41.000000       3.000000    1500.000000   \n",
       "max       113.000000      99.000000     400.000000    2990.000000   \n",
       "std        24.396428      17.756327       2.988900     261.530200   \n",
       "\n",
       "        product_ref  selling_price  log_quantity_tons  log_thickness_tons  \\\n",
       "count  1.782030e+05  178203.000000      178200.000000       178203.000000   \n",
       "mean   4.784503e+08     829.004458           3.403317            0.488656   \n",
       "min    6.117280e+05     396.000000         -11.512925           -1.714798   \n",
       "25%    6.281170e+05     676.000000           2.428968           -0.356675   \n",
       "50%    6.406650e+05     816.000000           3.417713            0.405465   \n",
       "75%    1.332077e+09     955.365000           4.214698            1.098612   \n",
       "max    1.722208e+09    1620.000000          20.723266            5.991465   \n",
       "std    7.197379e+08     197.420291           1.442499            0.932259   \n",
       "\n",
       "       log_selling_price  \n",
       "count      178203.000000  \n",
       "mean            6.692064  \n",
       "min             5.981414  \n",
       "25%             6.516193  \n",
       "50%             6.704414  \n",
       "75%             6.862093  \n",
       "max             7.390181  \n",
       "std             0.238183  "
      ]
     },
     "execution_count": 68,
     "metadata": {},
     "output_type": "execute_result"
    }
   ],
   "source": [
    "df.describe()"
   ]
  },
  {
   "cell_type": "code",
   "execution_count": 24,
   "metadata": {
    "colab": {
     "base_uri": "https://localhost:8080/"
    },
    "id": "PPTiIPQy6BCq",
    "outputId": "99f21524-e7ef-4190-ba66-7ca8e3f142ec"
   },
   "outputs": [
    {
     "name": "stdout",
     "output_type": "stream",
     "text": [
      "<class 'pandas.core.frame.DataFrame'>\n",
      "Index: 178203 entries, 0 to 181672\n",
      "Data columns (total 17 columns):\n",
      " #   Column              Non-Null Count   Dtype         \n",
      "---  ------              --------------   -----         \n",
      " 0   id                  178203 non-null  object        \n",
      " 1   item_date           178203 non-null  datetime64[ns]\n",
      " 2   quantity tons       178203 non-null  float64       \n",
      " 3   customer            178203 non-null  float64       \n",
      " 4   country             178203 non-null  float64       \n",
      " 5   status              178203 non-null  object        \n",
      " 6   item type           178203 non-null  object        \n",
      " 7   application         178203 non-null  float64       \n",
      " 8   thickness           178203 non-null  float64       \n",
      " 9   width               178203 non-null  float64       \n",
      " 10  material_ref        178203 non-null  object        \n",
      " 11  product_ref         178203 non-null  int64         \n",
      " 12  delivery date       178203 non-null  object        \n",
      " 13  selling_price       178203 non-null  float64       \n",
      " 14  log_quantity_tons   178200 non-null  float64       \n",
      " 15  log_thickness_tons  178203 non-null  float64       \n",
      " 16  log_selling_price   178203 non-null  float64       \n",
      "dtypes: datetime64[ns](1), float64(10), int64(1), object(5)\n",
      "memory usage: 24.5+ MB\n"
     ]
    }
   ],
   "source": [
    "df.info()"
   ]
  },
  {
   "cell_type": "code",
   "execution_count": 25,
   "metadata": {
    "id": "djDYuNuRHyRn"
   },
   "outputs": [],
   "source": [
    "# Assuming X is your input DataFrame containing NaN values\n",
    "\n",
    "# Remove rows with NaN values\n",
    "df = df.dropna()\n",
    "\n",
    "# Now X_cleaned does not contain any rows with NaN values\n"
   ]
  },
  {
   "cell_type": "markdown",
   "metadata": {},
   "source": [
    "MODEL BUILDING WITH DECISON TREE REGRESSOR"
   ]
  },
  {
   "cell_type": "code",
   "execution_count": 27,
   "metadata": {},
   "outputs": [
    {
     "name": "stdout",
     "output_type": "stream",
     "text": [
      "Fitting 5 folds for each of 50 candidates, totalling 250 fits\n",
      "Best parameters for XGBoost with RandomizedSearchCV: {'regressor__subsample': 1.0, 'regressor__n_estimators': 500, 'regressor__min_child_weight': 1, 'regressor__max_depth': 7, 'regressor__learning_rate': 0.3, 'regressor__colsample_bytree': 0.8}\n",
      "Root Mean Squared Error for XGBoost with RandomizedSearchCV: 0.13827641229446289\n"
     ]
    }
   ],
   "source": [
    "import pandas as pd\n",
    "import numpy as np\n",
    "from sklearn.model_selection import train_test_split, GridSearchCV\n",
    "from sklearn.ensemble import GradientBoostingRegressor  # Import GradientBoostingRegressor\n",
    "from sklearn.preprocessing import OneHotEncoder, StandardScaler\n",
    "from sklearn.compose import ColumnTransformer\n",
    "from sklearn.pipeline import Pipeline\n",
    "from sklearn.metrics import mean_squared_error\n",
    "from sklearn.tree import DecisionTreeRegressor  # Import DecisionTreeRegressor\n",
    "\n",
    "from xgboost import XGBRegressor\n",
    "from sklearn.model_selection import RandomizedSearchCV\n",
    "target = df['log_selling_price'].values\n",
    "\n",
    "# Define the features\n",
    "features = df[['log_quantity_tons', 'status', 'item type', 'application', 'log_thickness_tons', 'width', 'product_ref', 'customer', 'country']]\n",
    "\n",
    "# Split the data into training and test sets\n",
    "X_train, X_test, y_train, y_test = train_test_split(features, target, test_size=0.2, random_state=42)\n",
    "\n",
    "# Define column indices for categorical and numerical features\n",
    "categorical_features = ['status', 'item type']\n",
    "numerical_features = ['log_quantity_tons', 'application', 'log_thickness_tons', 'width', 'product_ref', 'customer', 'country']\n",
    "\n",
    "# Create a column transformer\n",
    "preprocessor = ColumnTransformer(\n",
    "    transformers=[\n",
    "        ('num', StandardScaler(), numerical_features),\n",
    "        ('cat', OneHotEncoder(handle_unknown='ignore'), categorical_features)\n",
    "    ]\n",
    ")\n",
    "\n",
    "\n",
    "# Define the pipeline with XGBoost Regressor\n",
    "pipeline_xgb = Pipeline(steps=[\n",
    "    ('preprocessor', preprocessor),\n",
    "    ('regressor', XGBRegressor(random_state=42))\n",
    "])\n",
    "\n",
    "# Define the parameter distribution for RandomizedSearchCV\n",
    "param_distributions_xgb = {\n",
    "    'regressor__n_estimators': [100, 200, 300, 400, 500],\n",
    "    'regressor__learning_rate': [0.01, 0.05, 0.1, 0.2, 0.3],\n",
    "    'regressor__max_depth': [3, 4, 5, 6, 7],\n",
    "    'regressor__min_child_weight': [1, 2, 3, 4, 5],\n",
    "    'regressor__subsample': [0.6, 0.7, 0.8, 0.9, 1.0],\n",
    "    'regressor__colsample_bytree': [0.6, 0.7, 0.8, 0.9, 1.0]\n",
    "}\n",
    "\n",
    "# Initialize RandomizedSearchCV\n",
    "random_search_xgb = RandomizedSearchCV(\n",
    "    estimator=pipeline_xgb,\n",
    "    param_distributions=param_distributions_xgb,\n",
    "    n_iter=50,  # Number of parameter settings that are sampled\n",
    "    cv=5,  # 5-fold cross-validation\n",
    "    n_jobs=-1,  # Use all available cores\n",
    "    verbose=2,\n",
    "    random_state=42\n",
    ")\n",
    "\n",
    "# Fit the model\n",
    "random_search_xgb.fit(X_train, y_train)\n",
    "\n",
    "# Print the best parameters\n",
    "print(f\"Best parameters for XGBoost with RandomizedSearchCV: {random_search_xgb.best_params_}\")\n",
    "\n",
    "# Predict on the test set\n",
    "y_pred_xgb_rs = random_search_xgb.predict(X_test)\n",
    "\n",
    "# Calculate and print the RMSE\n",
    "rmse_xgb_rs = np.sqrt(mean_squared_error(y_test, y_pred_xgb_rs))\n",
    "print(f\"Root Mean Squared Error for XGBoost with RandomizedSearchCV: {rmse_xgb_rs}\")\n"
   ]
  },
  {
   "cell_type": "code",
   "execution_count": 29,
   "metadata": {},
   "outputs": [
    {
     "name": "stdout",
     "output_type": "stream",
     "text": [
      "Model saved as 'random_search_xgb_model.pkl'\n"
     ]
    }
   ],
   "source": [
    "import pickle\n",
    "\n",
    "# Serialize the model to a file\n",
    "with open('random_search_xgb_model.pkl', 'wb') as file:\n",
    "    pickle.dump(random_search_xgb, file)\n",
    "\n",
    "print(\"Model saved as 'random_search_xgb_model.pkl'\")\n"
   ]
  },
  {
   "cell_type": "code",
   "execution_count": 30,
   "metadata": {},
   "outputs": [
    {
     "name": "stdout",
     "output_type": "stream",
     "text": [
      "Predictions from loaded model: [6.7241154 7.001244  6.827611  ... 6.151541  6.589612  6.8035254]\n",
      "RMSE from loaded model: 0.13827641229446289\n"
     ]
    }
   ],
   "source": [
    "# Load the model from a file\n",
    "with open('random_search_xgb_model.pkl', 'rb') as file:\n",
    "    loaded_model = pickle.load(file)\n",
    "\n",
    "# You can now use loaded_model to make predictions or inspect it\n",
    "y_loaded_pred = loaded_model.predict(X_test)\n",
    "loaded_rmse = np.sqrt(mean_squared_error(y_test, y_loaded_pred))\n",
    "print(f\"Predictions from loaded model: {y_loaded_pred}\")\n",
    "print(f\"RMSE from loaded model: {loaded_rmse}\")\n"
   ]
  },
  {
   "cell_type": "code",
   "execution_count": 71,
   "metadata": {
    "colab": {
     "base_uri": "https://localhost:8080/"
    },
    "id": "zlAqF_KD6FE3",
    "outputId": "e876c96c-4888-493f-9300-b471f31601fa"
   },
   "outputs": [
    {
     "name": "stdout",
     "output_type": "stream",
     "text": [
      "Fitting 5 folds for each of 27 candidates, totalling 135 fits\n",
      "Best parameters: {'regressor__max_depth': 7, 'regressor__min_samples_leaf': 2, 'regressor__min_samples_split': 10}\n",
      "Root Mean Squared Error: 0.1783189840913191\n"
     ]
    }
   ],
   "source": [
    "import pandas as pd\n",
    "import numpy as np\n",
    "from sklearn.model_selection import train_test_split, GridSearchCV\n",
    "from sklearn.ensemble import GradientBoostingRegressor  # Import GradientBoostingRegressor\n",
    "from sklearn.preprocessing import OneHotEncoder, StandardScaler\n",
    "from sklearn.compose import ColumnTransformer\n",
    "from sklearn.pipeline import Pipeline\n",
    "from sklearn.metrics import mean_squared_error\n",
    "from sklearn.tree import DecisionTreeRegressor  # Import DecisionTreeRegressor\n",
    "\n",
    "\n",
    "target = df['log_selling_price'].values\n",
    "\n",
    "# Define the features\n",
    "features = df[['log_quantity_tons', 'status', 'item type', 'application', 'log_thickness_tons', 'width', 'product_ref', 'customer', 'country']]\n",
    "\n",
    "# Split the data into training and test sets\n",
    "X_train, X_test, y_train, y_test = train_test_split(features, target, test_size=0.2, random_state=42)\n",
    "\n",
    "# Define column indices for categorical and numerical features\n",
    "categorical_features = ['status', 'item type']\n",
    "numerical_features = ['log_quantity_tons', 'application', 'log_thickness_tons', 'width', 'product_ref', 'customer', 'country']\n",
    "\n",
    "# Create a column transformer\n",
    "preprocessor = ColumnTransformer(\n",
    "    transformers=[\n",
    "        ('num', StandardScaler(), numerical_features),\n",
    "        ('cat', OneHotEncoder(handle_unknown='ignore'), categorical_features)\n",
    "    ]\n",
    ")\n",
    "\n",
    "# Define the pipeline\n",
    "pipeline = Pipeline(steps=[\n",
    "    ('preprocessor', preprocessor),\n",
    "    ('regressor', DecisionTreeRegressor(random_state=42))\n",
    "])\n",
    "\n",
    "# Define the parameter grid for GridSearchCV\n",
    "param_grid = {\n",
    "    'regressor__max_depth': [3, 5, 7],\n",
    "    'regressor__min_samples_split': [2, 5, 10],\n",
    "    'regressor__min_samples_leaf': [1, 2, 4]\n",
    "}\n",
    "\n",
    "# Initialize GridSearchCV\n",
    "grid_search = GridSearchCV(estimator=pipeline, param_grid=param_grid, cv=5, n_jobs=-1, verbose=2)\n",
    "\n",
    "# Fit the model\n",
    "grid_search.fit(X_train, y_train)\n",
    "\n",
    "# Print the best parameters\n",
    "print(f\"Best parameters: {grid_search.best_params_}\")\n",
    "\n",
    "# Predict on the test set\n",
    "y_pred = grid_search.predict(X_test)\n",
    "\n",
    "# Calculate and print the RMSE\n",
    "rmse = np.sqrt(mean_squared_error(y_test, y_pred))\n",
    "print(f\"Root Mean Squared Error: {rmse}\")\n"
   ]
  },
  {
   "cell_type": "code",
   "execution_count": 72,
   "metadata": {
    "colab": {
     "base_uri": "https://localhost:8080/"
    },
    "id": "yg0z0bMm6Ula",
    "outputId": "37385a76-779d-4d6f-99ae-8bae678858ac"
   },
   "outputs": [
    {
     "name": "stdout",
     "output_type": "stream",
     "text": [
      "Mean Absolute Error (MAE): 0.15096481205687592\n",
      "R-squared (R2) score: 0.4450275670713596\n"
     ]
    }
   ],
   "source": [
    "from sklearn.metrics import mean_absolute_error, r2_score\n",
    "mae = mean_absolute_error(y_test, y_pred)\n",
    "print(f\"Mean Absolute Error (MAE): {mae}\")\n",
    "\n",
    "# Calculate R-squared (R2) score\n",
    "r2 = r2_score(y_test, y_pred)\n",
    "print(f\"R-squared (R2) score: {r2}\")"
   ]
  },
  {
   "cell_type": "code",
   "execution_count": 28,
   "metadata": {
    "colab": {
     "base_uri": "https://localhost:8080/"
    },
    "id": "Ib25yLQeDPf2",
    "outputId": "43fd8348-d6c3-459c-c5c5-664d24b050bf"
   },
   "outputs": [
    {
     "name": "stdout",
     "output_type": "stream",
     "text": [
      "Predicted selling price: 6.5892744064331055\n"
     ]
    }
   ],
   "source": [
    "# Assuming the column order is preserved, prepare a sample input as a DataFrame\n",
    "sample_input = pd.DataFrame({\n",
    "    'log_quantity_tons': [3.991779],\n",
    "    'status': ['Won'],\n",
    "    'item type': ['W'],\n",
    "    'application': [10.0],\n",
    "    'log_thickness_tons': [0.693147],\n",
    "    'width': [1500.0],\n",
    "    'product_ref': [1670798778],\n",
    "    'customer': [30156308.0],\n",
    "    'country': [28.0]\n",
    "})\n",
    "\n",
    "# Use the trained model to predict the selling price for the sample input\n",
    "predicted_selling_price = random_search_xgb.predict(sample_input)\n",
    "\n",
    "print(f\"Predicted selling price: {predicted_selling_price[0]}\")\n"
   ]
  },
  {
   "cell_type": "code",
   "execution_count": 74,
   "metadata": {},
   "outputs": [
    {
     "data": {
      "text/plain": [
       "150232"
      ]
     },
     "execution_count": 74,
     "metadata": {},
     "output_type": "execute_result"
    }
   ],
   "source": [
    "df_1=df[df['status'].isin(['Won','Lost'])]\n",
    "len(df_1)"
   ]
  },
  {
   "cell_type": "markdown",
   "metadata": {},
   "source": [
    "Decision tree classifier"
   ]
  },
  {
   "cell_type": "code",
   "execution_count": 37,
   "metadata": {},
   "outputs": [
    {
     "name": "stdout",
     "output_type": "stream",
     "text": [
      "Fitting 5 folds for each of 27 candidates, totalling 135 fits\n",
      "Confusion Matrix:\n",
      "[[ 5240  1661]\n",
      " [ 5516 17630]]\n",
      "Classification Report:\n",
      "              precision    recall  f1-score   support\n",
      "\n",
      "        Lost       0.49      0.76      0.59      6901\n",
      "         Won       0.91      0.76      0.83     23146\n",
      "\n",
      "    accuracy                           0.76     30047\n",
      "   macro avg       0.70      0.76      0.71     30047\n",
      "weighted avg       0.82      0.76      0.78     30047\n",
      "\n",
      "Accuracy: 0.7611408792891137\n",
      "Model and metrics saved to classifier_model.pkl\n"
     ]
    }
   ],
   "source": [
    "import pandas as pd\n",
    "from sklearn.model_selection import train_test_split, GridSearchCV\n",
    "from sklearn.tree import DecisionTreeClassifier\n",
    "from sklearn.preprocessing import OneHotEncoder, StandardScaler\n",
    "from sklearn.compose import ColumnTransformer\n",
    "from sklearn.metrics import classification_report, confusion_matrix\n",
    "from imblearn.pipeline import make_pipeline as make_pipeline_imblearn\n",
    "from imblearn.over_sampling import SMOTE\n",
    "import pickle  # Ensure pickle is imported here\n",
    "\n",
    "# Assume df_1 is your DataFrame defined elsewhere\n",
    "features = df_1[['log_quantity_tons', 'log_selling_price', 'item type', 'application', 'log_thickness_tons', 'width', 'product_ref', 'customer', 'country']]\n",
    "target = df_1['status']\n",
    "\n",
    "# Split the data\n",
    "X_train, X_test, y_train, y_test = train_test_split(features, target, test_size=0.2, random_state=42)\n",
    "\n",
    "# Define transformers\n",
    "categorical_features = ['item type']\n",
    "numerical_features = ['log_quantity_tons', 'log_selling_price', 'application', 'log_thickness_tons', 'width', 'product_ref', 'customer', 'country']\n",
    "preprocessor = ColumnTransformer(\n",
    "    transformers=[\n",
    "        ('num', StandardScaler(), numerical_features),\n",
    "        ('cat', OneHotEncoder(handle_unknown='ignore'), categorical_features)\n",
    "    ]\n",
    ")\n",
    "\n",
    "# Create a pipeline with SMOTE\n",
    "pipeline = make_pipeline_imblearn(\n",
    "    preprocessor,\n",
    "    SMOTE(random_state=42),\n",
    "    DecisionTreeClassifier(random_state=42)\n",
    ")\n",
    "\n",
    "# Parameters and GridSearchCV\n",
    "param_grid = {\n",
    "    'decisiontreeclassifier__max_depth': [3, 5, 7],\n",
    "    'decisiontreeclassifier__min_samples_split': [2, 5, 10],\n",
    "    'decisiontreeclassifier__min_samples_leaf': [1, 2, 4]\n",
    "}\n",
    "grid_search = GridSearchCV(pipeline, param_grid=param_grid, cv=5, n_jobs=-1, verbose=2)\n",
    "\n",
    "# Fit the model\n",
    "grid_search.fit(X_train, y_train)\n",
    "\n",
    "# Evaluation\n",
    "y_pred = grid_search.predict(X_test)\n",
    "conf_matrix = confusion_matrix(y_test, y_pred)\n",
    "class_report = classification_report(y_test, y_pred, zero_division=0, output_dict=True)\n",
    "accuracy = class_report['accuracy']\n",
    "\n",
    "# Output results\n",
    "print(\"Confusion Matrix:\")\n",
    "print(conf_matrix)\n",
    "print(\"Classification Report:\")\n",
    "print(classification_report(y_test, y_pred, zero_division=0))\n",
    "print(f\"Accuracy: {accuracy}\")\n",
    "\n",
    "# Save the model\n",
    "with open('classifier_model.pkl', 'wb') as file:\n",
    "    pickle.dump({'model': grid_search, 'conf_matrix': conf_matrix, 'class_report': class_report, 'accuracy': accuracy}, file)\n",
    "\n",
    "print(\"Model and metrics saved to classifier_model.pkl\")\n"
   ]
  },
  {
   "cell_type": "code",
   "execution_count": 77,
   "metadata": {},
   "outputs": [
    {
     "name": "stdout",
     "output_type": "stream",
     "text": [
      "Fitting 5 folds for each of 27 candidates, totalling 135 fits\n"
     ]
    },
    {
     "ename": "KeyboardInterrupt",
     "evalue": "",
     "output_type": "error",
     "traceback": [
      "\u001b[1;31m---------------------------------------------------------------------------\u001b[0m",
      "\u001b[1;31mKeyboardInterrupt\u001b[0m                         Traceback (most recent call last)",
      "Cell \u001b[1;32mIn[77], line 47\u001b[0m\n\u001b[0;32m     44\u001b[0m grid_search \u001b[38;5;241m=\u001b[39m GridSearchCV(pipeline, param_grid\u001b[38;5;241m=\u001b[39mparam_grid, cv\u001b[38;5;241m=\u001b[39m\u001b[38;5;241m5\u001b[39m, n_jobs\u001b[38;5;241m=\u001b[39m\u001b[38;5;241m-\u001b[39m\u001b[38;5;241m1\u001b[39m, verbose\u001b[38;5;241m=\u001b[39m\u001b[38;5;241m2\u001b[39m)\n\u001b[0;32m     46\u001b[0m \u001b[38;5;66;03m# Fit the model\u001b[39;00m\n\u001b[1;32m---> 47\u001b[0m \u001b[43mgrid_search\u001b[49m\u001b[38;5;241;43m.\u001b[39;49m\u001b[43mfit\u001b[49m\u001b[43m(\u001b[49m\u001b[43mX_train\u001b[49m\u001b[43m,\u001b[49m\u001b[43m \u001b[49m\u001b[43my_train\u001b[49m\u001b[43m)\u001b[49m\n\u001b[0;32m     49\u001b[0m \u001b[38;5;66;03m# Evaluation\u001b[39;00m\n\u001b[0;32m     50\u001b[0m y_pred \u001b[38;5;241m=\u001b[39m grid_search\u001b[38;5;241m.\u001b[39mpredict(X_test)\n",
      "File \u001b[1;32me:\\capstone_projects\\.venv\\lib\\site-packages\\sklearn\\base.py:1473\u001b[0m, in \u001b[0;36m_fit_context.<locals>.decorator.<locals>.wrapper\u001b[1;34m(estimator, *args, **kwargs)\u001b[0m\n\u001b[0;32m   1466\u001b[0m     estimator\u001b[38;5;241m.\u001b[39m_validate_params()\n\u001b[0;32m   1468\u001b[0m \u001b[38;5;28;01mwith\u001b[39;00m config_context(\n\u001b[0;32m   1469\u001b[0m     skip_parameter_validation\u001b[38;5;241m=\u001b[39m(\n\u001b[0;32m   1470\u001b[0m         prefer_skip_nested_validation \u001b[38;5;129;01mor\u001b[39;00m global_skip_validation\n\u001b[0;32m   1471\u001b[0m     )\n\u001b[0;32m   1472\u001b[0m ):\n\u001b[1;32m-> 1473\u001b[0m     \u001b[38;5;28;01mreturn\u001b[39;00m fit_method(estimator, \u001b[38;5;241m*\u001b[39margs, \u001b[38;5;241m*\u001b[39m\u001b[38;5;241m*\u001b[39mkwargs)\n",
      "File \u001b[1;32me:\\capstone_projects\\.venv\\lib\\site-packages\\sklearn\\model_selection\\_search.py:968\u001b[0m, in \u001b[0;36mBaseSearchCV.fit\u001b[1;34m(self, X, y, **params)\u001b[0m\n\u001b[0;32m    962\u001b[0m     results \u001b[38;5;241m=\u001b[39m \u001b[38;5;28mself\u001b[39m\u001b[38;5;241m.\u001b[39m_format_results(\n\u001b[0;32m    963\u001b[0m         all_candidate_params, n_splits, all_out, all_more_results\n\u001b[0;32m    964\u001b[0m     )\n\u001b[0;32m    966\u001b[0m     \u001b[38;5;28;01mreturn\u001b[39;00m results\n\u001b[1;32m--> 968\u001b[0m \u001b[38;5;28;43mself\u001b[39;49m\u001b[38;5;241;43m.\u001b[39;49m\u001b[43m_run_search\u001b[49m\u001b[43m(\u001b[49m\u001b[43mevaluate_candidates\u001b[49m\u001b[43m)\u001b[49m\n\u001b[0;32m    970\u001b[0m \u001b[38;5;66;03m# multimetric is determined here because in the case of a callable\u001b[39;00m\n\u001b[0;32m    971\u001b[0m \u001b[38;5;66;03m# self.scoring the return type is only known after calling\u001b[39;00m\n\u001b[0;32m    972\u001b[0m first_test_score \u001b[38;5;241m=\u001b[39m all_out[\u001b[38;5;241m0\u001b[39m][\u001b[38;5;124m\"\u001b[39m\u001b[38;5;124mtest_scores\u001b[39m\u001b[38;5;124m\"\u001b[39m]\n",
      "File \u001b[1;32me:\\capstone_projects\\.venv\\lib\\site-packages\\sklearn\\model_selection\\_search.py:1543\u001b[0m, in \u001b[0;36mGridSearchCV._run_search\u001b[1;34m(self, evaluate_candidates)\u001b[0m\n\u001b[0;32m   1541\u001b[0m \u001b[38;5;28;01mdef\u001b[39;00m \u001b[38;5;21m_run_search\u001b[39m(\u001b[38;5;28mself\u001b[39m, evaluate_candidates):\n\u001b[0;32m   1542\u001b[0m \u001b[38;5;250m    \u001b[39m\u001b[38;5;124;03m\"\"\"Search all candidates in param_grid\"\"\"\u001b[39;00m\n\u001b[1;32m-> 1543\u001b[0m     \u001b[43mevaluate_candidates\u001b[49m\u001b[43m(\u001b[49m\u001b[43mParameterGrid\u001b[49m\u001b[43m(\u001b[49m\u001b[38;5;28;43mself\u001b[39;49m\u001b[38;5;241;43m.\u001b[39;49m\u001b[43mparam_grid\u001b[49m\u001b[43m)\u001b[49m\u001b[43m)\u001b[49m\n",
      "File \u001b[1;32me:\\capstone_projects\\.venv\\lib\\site-packages\\sklearn\\model_selection\\_search.py:914\u001b[0m, in \u001b[0;36mBaseSearchCV.fit.<locals>.evaluate_candidates\u001b[1;34m(candidate_params, cv, more_results)\u001b[0m\n\u001b[0;32m    906\u001b[0m \u001b[38;5;28;01mif\u001b[39;00m \u001b[38;5;28mself\u001b[39m\u001b[38;5;241m.\u001b[39mverbose \u001b[38;5;241m>\u001b[39m \u001b[38;5;241m0\u001b[39m:\n\u001b[0;32m    907\u001b[0m     \u001b[38;5;28mprint\u001b[39m(\n\u001b[0;32m    908\u001b[0m         \u001b[38;5;124m\"\u001b[39m\u001b[38;5;124mFitting \u001b[39m\u001b[38;5;132;01m{0}\u001b[39;00m\u001b[38;5;124m folds for each of \u001b[39m\u001b[38;5;132;01m{1}\u001b[39;00m\u001b[38;5;124m candidates,\u001b[39m\u001b[38;5;124m\"\u001b[39m\n\u001b[0;32m    909\u001b[0m         \u001b[38;5;124m\"\u001b[39m\u001b[38;5;124m totalling \u001b[39m\u001b[38;5;132;01m{2}\u001b[39;00m\u001b[38;5;124m fits\u001b[39m\u001b[38;5;124m\"\u001b[39m\u001b[38;5;241m.\u001b[39mformat(\n\u001b[0;32m    910\u001b[0m             n_splits, n_candidates, n_candidates \u001b[38;5;241m*\u001b[39m n_splits\n\u001b[0;32m    911\u001b[0m         )\n\u001b[0;32m    912\u001b[0m     )\n\u001b[1;32m--> 914\u001b[0m out \u001b[38;5;241m=\u001b[39m \u001b[43mparallel\u001b[49m\u001b[43m(\u001b[49m\n\u001b[0;32m    915\u001b[0m \u001b[43m    \u001b[49m\u001b[43mdelayed\u001b[49m\u001b[43m(\u001b[49m\u001b[43m_fit_and_score\u001b[49m\u001b[43m)\u001b[49m\u001b[43m(\u001b[49m\n\u001b[0;32m    916\u001b[0m \u001b[43m        \u001b[49m\u001b[43mclone\u001b[49m\u001b[43m(\u001b[49m\u001b[43mbase_estimator\u001b[49m\u001b[43m)\u001b[49m\u001b[43m,\u001b[49m\n\u001b[0;32m    917\u001b[0m \u001b[43m        \u001b[49m\u001b[43mX\u001b[49m\u001b[43m,\u001b[49m\n\u001b[0;32m    918\u001b[0m \u001b[43m        \u001b[49m\u001b[43my\u001b[49m\u001b[43m,\u001b[49m\n\u001b[0;32m    919\u001b[0m \u001b[43m        \u001b[49m\u001b[43mtrain\u001b[49m\u001b[38;5;241;43m=\u001b[39;49m\u001b[43mtrain\u001b[49m\u001b[43m,\u001b[49m\n\u001b[0;32m    920\u001b[0m \u001b[43m        \u001b[49m\u001b[43mtest\u001b[49m\u001b[38;5;241;43m=\u001b[39;49m\u001b[43mtest\u001b[49m\u001b[43m,\u001b[49m\n\u001b[0;32m    921\u001b[0m \u001b[43m        \u001b[49m\u001b[43mparameters\u001b[49m\u001b[38;5;241;43m=\u001b[39;49m\u001b[43mparameters\u001b[49m\u001b[43m,\u001b[49m\n\u001b[0;32m    922\u001b[0m \u001b[43m        \u001b[49m\u001b[43msplit_progress\u001b[49m\u001b[38;5;241;43m=\u001b[39;49m\u001b[43m(\u001b[49m\u001b[43msplit_idx\u001b[49m\u001b[43m,\u001b[49m\u001b[43m \u001b[49m\u001b[43mn_splits\u001b[49m\u001b[43m)\u001b[49m\u001b[43m,\u001b[49m\n\u001b[0;32m    923\u001b[0m \u001b[43m        \u001b[49m\u001b[43mcandidate_progress\u001b[49m\u001b[38;5;241;43m=\u001b[39;49m\u001b[43m(\u001b[49m\u001b[43mcand_idx\u001b[49m\u001b[43m,\u001b[49m\u001b[43m \u001b[49m\u001b[43mn_candidates\u001b[49m\u001b[43m)\u001b[49m\u001b[43m,\u001b[49m\n\u001b[0;32m    924\u001b[0m \u001b[43m        \u001b[49m\u001b[38;5;241;43m*\u001b[39;49m\u001b[38;5;241;43m*\u001b[39;49m\u001b[43mfit_and_score_kwargs\u001b[49m\u001b[43m,\u001b[49m\n\u001b[0;32m    925\u001b[0m \u001b[43m    \u001b[49m\u001b[43m)\u001b[49m\n\u001b[0;32m    926\u001b[0m \u001b[43m    \u001b[49m\u001b[38;5;28;43;01mfor\u001b[39;49;00m\u001b[43m \u001b[49m\u001b[43m(\u001b[49m\u001b[43mcand_idx\u001b[49m\u001b[43m,\u001b[49m\u001b[43m \u001b[49m\u001b[43mparameters\u001b[49m\u001b[43m)\u001b[49m\u001b[43m,\u001b[49m\u001b[43m \u001b[49m\u001b[43m(\u001b[49m\u001b[43msplit_idx\u001b[49m\u001b[43m,\u001b[49m\u001b[43m \u001b[49m\u001b[43m(\u001b[49m\u001b[43mtrain\u001b[49m\u001b[43m,\u001b[49m\u001b[43m \u001b[49m\u001b[43mtest\u001b[49m\u001b[43m)\u001b[49m\u001b[43m)\u001b[49m\u001b[43m \u001b[49m\u001b[38;5;129;43;01min\u001b[39;49;00m\u001b[43m \u001b[49m\u001b[43mproduct\u001b[49m\u001b[43m(\u001b[49m\n\u001b[0;32m    927\u001b[0m \u001b[43m        \u001b[49m\u001b[38;5;28;43menumerate\u001b[39;49m\u001b[43m(\u001b[49m\u001b[43mcandidate_params\u001b[49m\u001b[43m)\u001b[49m\u001b[43m,\u001b[49m\n\u001b[0;32m    928\u001b[0m \u001b[43m        \u001b[49m\u001b[38;5;28;43menumerate\u001b[39;49m\u001b[43m(\u001b[49m\u001b[43mcv\u001b[49m\u001b[38;5;241;43m.\u001b[39;49m\u001b[43msplit\u001b[49m\u001b[43m(\u001b[49m\u001b[43mX\u001b[49m\u001b[43m,\u001b[49m\u001b[43m \u001b[49m\u001b[43my\u001b[49m\u001b[43m,\u001b[49m\u001b[43m \u001b[49m\u001b[38;5;241;43m*\u001b[39;49m\u001b[38;5;241;43m*\u001b[39;49m\u001b[43mrouted_params\u001b[49m\u001b[38;5;241;43m.\u001b[39;49m\u001b[43msplitter\u001b[49m\u001b[38;5;241;43m.\u001b[39;49m\u001b[43msplit\u001b[49m\u001b[43m)\u001b[49m\u001b[43m)\u001b[49m\u001b[43m,\u001b[49m\n\u001b[0;32m    929\u001b[0m \u001b[43m    \u001b[49m\u001b[43m)\u001b[49m\n\u001b[0;32m    930\u001b[0m \u001b[43m\u001b[49m\u001b[43m)\u001b[49m\n\u001b[0;32m    932\u001b[0m \u001b[38;5;28;01mif\u001b[39;00m \u001b[38;5;28mlen\u001b[39m(out) \u001b[38;5;241m<\u001b[39m \u001b[38;5;241m1\u001b[39m:\n\u001b[0;32m    933\u001b[0m     \u001b[38;5;28;01mraise\u001b[39;00m \u001b[38;5;167;01mValueError\u001b[39;00m(\n\u001b[0;32m    934\u001b[0m         \u001b[38;5;124m\"\u001b[39m\u001b[38;5;124mNo fits were performed. \u001b[39m\u001b[38;5;124m\"\u001b[39m\n\u001b[0;32m    935\u001b[0m         \u001b[38;5;124m\"\u001b[39m\u001b[38;5;124mWas the CV iterator empty? \u001b[39m\u001b[38;5;124m\"\u001b[39m\n\u001b[0;32m    936\u001b[0m         \u001b[38;5;124m\"\u001b[39m\u001b[38;5;124mWere there no candidates?\u001b[39m\u001b[38;5;124m\"\u001b[39m\n\u001b[0;32m    937\u001b[0m     )\n",
      "File \u001b[1;32me:\\capstone_projects\\.venv\\lib\\site-packages\\sklearn\\utils\\parallel.py:67\u001b[0m, in \u001b[0;36mParallel.__call__\u001b[1;34m(self, iterable)\u001b[0m\n\u001b[0;32m     62\u001b[0m config \u001b[38;5;241m=\u001b[39m get_config()\n\u001b[0;32m     63\u001b[0m iterable_with_config \u001b[38;5;241m=\u001b[39m (\n\u001b[0;32m     64\u001b[0m     (_with_config(delayed_func, config), args, kwargs)\n\u001b[0;32m     65\u001b[0m     \u001b[38;5;28;01mfor\u001b[39;00m delayed_func, args, kwargs \u001b[38;5;129;01min\u001b[39;00m iterable\n\u001b[0;32m     66\u001b[0m )\n\u001b[1;32m---> 67\u001b[0m \u001b[38;5;28;01mreturn\u001b[39;00m \u001b[38;5;28;43msuper\u001b[39;49m\u001b[43m(\u001b[49m\u001b[43m)\u001b[49m\u001b[38;5;241;43m.\u001b[39;49m\u001b[38;5;21;43m__call__\u001b[39;49m\u001b[43m(\u001b[49m\u001b[43miterable_with_config\u001b[49m\u001b[43m)\u001b[49m\n",
      "File \u001b[1;32me:\\capstone_projects\\.venv\\lib\\site-packages\\joblib\\parallel.py:2007\u001b[0m, in \u001b[0;36mParallel.__call__\u001b[1;34m(self, iterable)\u001b[0m\n\u001b[0;32m   2001\u001b[0m \u001b[38;5;66;03m# The first item from the output is blank, but it makes the interpreter\u001b[39;00m\n\u001b[0;32m   2002\u001b[0m \u001b[38;5;66;03m# progress until it enters the Try/Except block of the generator and\u001b[39;00m\n\u001b[0;32m   2003\u001b[0m \u001b[38;5;66;03m# reaches the first `yield` statement. This starts the asynchronous\u001b[39;00m\n\u001b[0;32m   2004\u001b[0m \u001b[38;5;66;03m# dispatch of the tasks to the workers.\u001b[39;00m\n\u001b[0;32m   2005\u001b[0m \u001b[38;5;28mnext\u001b[39m(output)\n\u001b[1;32m-> 2007\u001b[0m \u001b[38;5;28;01mreturn\u001b[39;00m output \u001b[38;5;28;01mif\u001b[39;00m \u001b[38;5;28mself\u001b[39m\u001b[38;5;241m.\u001b[39mreturn_generator \u001b[38;5;28;01melse\u001b[39;00m \u001b[38;5;28;43mlist\u001b[39;49m\u001b[43m(\u001b[49m\u001b[43moutput\u001b[49m\u001b[43m)\u001b[49m\n",
      "File \u001b[1;32me:\\capstone_projects\\.venv\\lib\\site-packages\\joblib\\parallel.py:1650\u001b[0m, in \u001b[0;36mParallel._get_outputs\u001b[1;34m(self, iterator, pre_dispatch)\u001b[0m\n\u001b[0;32m   1647\u001b[0m     \u001b[38;5;28;01myield\u001b[39;00m\n\u001b[0;32m   1649\u001b[0m     \u001b[38;5;28;01mwith\u001b[39;00m \u001b[38;5;28mself\u001b[39m\u001b[38;5;241m.\u001b[39m_backend\u001b[38;5;241m.\u001b[39mretrieval_context():\n\u001b[1;32m-> 1650\u001b[0m         \u001b[38;5;28;01myield from\u001b[39;00m \u001b[38;5;28mself\u001b[39m\u001b[38;5;241m.\u001b[39m_retrieve()\n\u001b[0;32m   1652\u001b[0m \u001b[38;5;28;01mexcept\u001b[39;00m \u001b[38;5;167;01mGeneratorExit\u001b[39;00m:\n\u001b[0;32m   1653\u001b[0m     \u001b[38;5;66;03m# The generator has been garbage collected before being fully\u001b[39;00m\n\u001b[0;32m   1654\u001b[0m     \u001b[38;5;66;03m# consumed. This aborts the remaining tasks if possible and warn\u001b[39;00m\n\u001b[0;32m   1655\u001b[0m     \u001b[38;5;66;03m# the user if necessary.\u001b[39;00m\n\u001b[0;32m   1656\u001b[0m     \u001b[38;5;28mself\u001b[39m\u001b[38;5;241m.\u001b[39m_exception \u001b[38;5;241m=\u001b[39m \u001b[38;5;28;01mTrue\u001b[39;00m\n",
      "File \u001b[1;32me:\\capstone_projects\\.venv\\lib\\site-packages\\joblib\\parallel.py:1762\u001b[0m, in \u001b[0;36mParallel._retrieve\u001b[1;34m(self)\u001b[0m\n\u001b[0;32m   1757\u001b[0m \u001b[38;5;66;03m# If the next job is not ready for retrieval yet, we just wait for\u001b[39;00m\n\u001b[0;32m   1758\u001b[0m \u001b[38;5;66;03m# async callbacks to progress.\u001b[39;00m\n\u001b[0;32m   1759\u001b[0m \u001b[38;5;28;01mif\u001b[39;00m ((\u001b[38;5;28mlen\u001b[39m(\u001b[38;5;28mself\u001b[39m\u001b[38;5;241m.\u001b[39m_jobs) \u001b[38;5;241m==\u001b[39m \u001b[38;5;241m0\u001b[39m) \u001b[38;5;129;01mor\u001b[39;00m\n\u001b[0;32m   1760\u001b[0m     (\u001b[38;5;28mself\u001b[39m\u001b[38;5;241m.\u001b[39m_jobs[\u001b[38;5;241m0\u001b[39m]\u001b[38;5;241m.\u001b[39mget_status(\n\u001b[0;32m   1761\u001b[0m         timeout\u001b[38;5;241m=\u001b[39m\u001b[38;5;28mself\u001b[39m\u001b[38;5;241m.\u001b[39mtimeout) \u001b[38;5;241m==\u001b[39m TASK_PENDING)):\n\u001b[1;32m-> 1762\u001b[0m     \u001b[43mtime\u001b[49m\u001b[38;5;241;43m.\u001b[39;49m\u001b[43msleep\u001b[49m\u001b[43m(\u001b[49m\u001b[38;5;241;43m0.01\u001b[39;49m\u001b[43m)\u001b[49m\n\u001b[0;32m   1763\u001b[0m     \u001b[38;5;28;01mcontinue\u001b[39;00m\n\u001b[0;32m   1765\u001b[0m \u001b[38;5;66;03m# We need to be careful: the job list can be filling up as\u001b[39;00m\n\u001b[0;32m   1766\u001b[0m \u001b[38;5;66;03m# we empty it and Python list are not thread-safe by\u001b[39;00m\n\u001b[0;32m   1767\u001b[0m \u001b[38;5;66;03m# default hence the use of the lock\u001b[39;00m\n",
      "\u001b[1;31mKeyboardInterrupt\u001b[0m: "
     ]
    }
   ],
   "source": [
    "import pandas as pd\n",
    "from sklearn.model_selection import train_test_split, GridSearchCV\n",
    "from sklearn.ensemble import GradientBoostingClassifier\n",
    "from sklearn.preprocessing import OneHotEncoder, StandardScaler\n",
    "from sklearn.compose import ColumnTransformer\n",
    "from sklearn.metrics import classification_report, confusion_matrix\n",
    "from sklearn.pipeline import Pipeline\n",
    "import pickle  # Ensure pickle is imported\n",
    "\n",
    "# Assume df_1 is your DataFrame defined elsewhere\n",
    "# Example DataFrame (df_1) for context\n",
    "# df_1 = pd.read_csv('your_dataset.csv')  # Load your actual dataset here\n",
    "\n",
    "features = df_1[['log_quantity_tons', 'log_selling_price', 'item type', 'application', 'log_thickness_tons', 'width', 'product_ref', 'customer', 'country']]\n",
    "target = df_1['status']\n",
    "\n",
    "# Split the data\n",
    "X_train, X_test, y_train, y_test = train_test_split(features, target, test_size=0.2, random_state=42)\n",
    "\n",
    "# Define transformers\n",
    "categorical_features = ['item type']\n",
    "numerical_features = ['log_quantity_tons', 'log_selling_price', 'application', 'log_thickness_tons', 'width', 'product_ref', 'customer', 'country']\n",
    "preprocessor = ColumnTransformer(\n",
    "    transformers=[\n",
    "        ('num', StandardScaler(), numerical_features),\n",
    "        ('cat', OneHotEncoder(handle_unknown='ignore'), categorical_features)\n",
    "    ]\n",
    ")\n",
    "\n",
    "# Create a pipeline with Gradient Boosting\n",
    "pipeline = Pipeline(\n",
    "    steps=[\n",
    "        ('preprocessor', preprocessor),\n",
    "        ('classifier', GradientBoostingClassifier(random_state=42))\n",
    "    ]\n",
    ")\n",
    "\n",
    "# Parameters and GridSearchCV\n",
    "param_grid = {\n",
    "    'classifier__max_depth': [3, 5, 7],\n",
    "    'classifier__n_estimators': [100, 200, 300],\n",
    "    'classifier__learning_rate': [0.01, 0.1, 0.2]\n",
    "}\n",
    "grid_search = GridSearchCV(pipeline, param_grid=param_grid, cv=5, n_jobs=-1, verbose=2)\n",
    "\n",
    "# Fit the model\n",
    "grid_search.fit(X_train, y_train)\n",
    "\n",
    "# Evaluation\n",
    "y_pred = grid_search.predict(X_test)\n",
    "conf_matrix = confusion_matrix(y_test, y_pred)\n",
    "class_report = classification_report(y_test, y_pred, zero_division=0, output_dict=True)\n",
    "accuracy = class_report['accuracy']\n",
    "\n",
    "# Output results\n",
    "print(\"Confusion Matrix:\")\n",
    "print(conf_matrix)\n",
    "print(\"Classification Report:\")\n",
    "print(classification_report(y_test, y_pred, zero_division=0))\n",
    "print(f\"Accuracy: {accuracy:.2f}\")\n",
    "\n",
    "# Save the model\n",
    "with open('classifier_model.pkl', 'wb') as file:\n",
    "    pickle.dump({'model': grid_search, 'conf_matrix': conf_matrix, 'class_report': class_report, 'accuracy': accuracy}, file)\n",
    "\n",
    "print(\"Model and metrics saved to classifier_model.pkl\")\n"
   ]
  },
  {
   "cell_type": "code",
   "execution_count": 40,
   "metadata": {},
   "outputs": [
    {
     "data": {
      "image/png": "[encoded data removed]",
      "text/plain": [
       "<Figure size 640x480 with 1 Axes>"
      ]
     },
     "metadata": {},
     "output_type": "display_data"
    },
    {
     "name": "stdout",
     "output_type": "stream",
     "text": [
      "ROC AUC: 0.85\n"
     ]
    }
   ],
   "source": [
    "from sklearn.metrics import roc_curve, auc, RocCurveDisplay\n",
    "import matplotlib.pyplot as plt\n",
    "# After the model has been trained and tested\n",
    "probs = grid_search.predict_proba(X_test)\n",
    "# Keep probabilities for the positive outcome only\n",
    "probs = probs[:, 1]\n",
    "\n",
    "# Compute the ROC curve\n",
    "fpr, tpr, thresholds = roc_curve(y_test, probs, pos_label='Won')  # Ensure the positive label is correctly specified\n",
    "roc_auc = auc(fpr, tpr)\n",
    "\n",
    "# Plot ROC curve\n",
    "plt.figure()\n",
    "lw = 2\n",
    "plt.plot(fpr, tpr, color='darkorange',\n",
    "         lw=lw, label='ROC curve (area = %0.2f)' % roc_auc)\n",
    "plt.plot([0, 1], [0, 1], color='navy', lw=lw, linestyle='--')\n",
    "plt.xlim([0.0, 1.0])\n",
    "plt.ylim([0.0, 1.05])\n",
    "plt.xlabel('False Positive Rate')\n",
    "plt.ylabel('True Positive Rate')\n",
    "plt.title('Receiver Operating Characteristic')\n",
    "plt.legend(loc=\"lower right\")\n",
    "plt.show()\n",
    "\n",
    "# Output the AUC\n",
    "print(f\"ROC AUC: {roc_auc:.2f}\")\n",
    "\n"
   ]
  },
  {
   "cell_type": "markdown",
   "metadata": {},
   "source": [
    "DECISON TREE CLASSIFIER"
   ]
  },
  {
   "cell_type": "code",
   "execution_count": 130,
   "metadata": {},
   "outputs": [
    {
     "name": "stdout",
     "output_type": "stream",
     "text": [
      "Fitting 5 folds for each of 27 candidates, totalling 135 fits\n",
      "Best parameters: {'classifier__max_depth': 7, 'classifier__min_samples_leaf': 1, 'classifier__min_samples_split': 2}\n",
      "Confusion Matrix:\n",
      "[[ 3077  3824]\n",
      " [  956 22190]]\n",
      "Classification Report:\n",
      "              precision    recall  f1-score   support\n",
      "\n",
      "        Lost       0.76      0.45      0.56      6901\n",
      "         Won       0.85      0.96      0.90     23146\n",
      "\n",
      "    accuracy                           0.84     30047\n",
      "   macro avg       0.81      0.70      0.73     30047\n",
      "weighted avg       0.83      0.84      0.82     30047\n",
      "\n",
      "Accuracy: 0.8409158984257996\n",
      "Model and metrics saved to classifier_model.pkl\n"
     ]
    }
   ],
   "source": [
    "# import pandas as pd\n",
    "# from sklearn.model_selection import train_test_split, GridSearchCV\n",
    "# from sklearn.tree import DecisionTreeClassifier\n",
    "# from sklearn.preprocessing import OneHotEncoder, StandardScaler\n",
    "# from sklearn.compose import ColumnTransformer\n",
    "# from sklearn.pipeline import Pipeline\n",
    "# from sklearn.metrics import classification_report, confusion_matrix\n",
    "# import pickle\n",
    "\n",
    "# # Example DataFrame with a small dataset\n",
    "\n",
    "\n",
    "# # Define the features and target\n",
    "# features = df_1[['log_quantity_tons','log_selling_price', 'item type', 'application', 'log_thickness_tons', 'width', 'product_ref', 'customer', 'country']]\n",
    "# target = df_1['status']\n",
    "\n",
    "# # Split the data into training and test sets\n",
    "# X_train, X_test, y_train, y_test = train_test_split(features, target, test_size=0.2, random_state=42)\n",
    "\n",
    "# # Define column indices for categorical and numerical features\n",
    "# categorical_features = ['item type']\n",
    "# numerical_features = ['log_quantity_tons','log_selling_price', 'application', 'log_thickness_tons', 'width', 'product_ref', 'customer', 'country']\n",
    "\n",
    "# # Create a column transformer\n",
    "# preprocessor = ColumnTransformer(\n",
    "#     transformers=[\n",
    "#         ('num', StandardScaler(), numerical_features),\n",
    "#         ('cat', OneHotEncoder(handle_unknown='ignore'), categorical_features)\n",
    "#     ]\n",
    "# )\n",
    "\n",
    "# # Define the pipeline\n",
    "# pipeline = Pipeline(steps=[\n",
    "#     ('preprocessor', preprocessor),\n",
    "#     ('classifier', DecisionTreeClassifier(random_state=42))\n",
    "# ])\n",
    "\n",
    "# # Define the parameter grid for GridSearchCV\n",
    "# param_grid = {\n",
    "#     'classifier__max_depth': [3, 5, 7],\n",
    "#     'classifier__min_samples_split': [2, 5, 10],\n",
    "#     'classifier__min_samples_leaf': [1, 2, 4]\n",
    "# }\n",
    "\n",
    "# # Initialize GridSearchCV with a reduced number of splits\n",
    "# grid_search = GridSearchCV(estimator=pipeline, param_grid=param_grid, cv=5, n_jobs=-1, verbose=2)\n",
    "\n",
    "# # Fit the model\n",
    "# grid_search.fit(X_train, y_train)\n",
    "\n",
    "# # Print the best parameters\n",
    "# print(f\"Best parameters: {grid_search.best_params_}\")\n",
    "\n",
    "# # Predict on the test set\n",
    "# y_pred = grid_search.predict(X_test)\n",
    "\n",
    "# # Calculate metrics\n",
    "# conf_matrix = confusion_matrix(y_test, y_pred)\n",
    "# class_report = classification_report(y_test, y_pred, zero_division=0, output_dict=True)\n",
    "# accuracy = class_report['accuracy']\n",
    "\n",
    "# print(\"Confusion Matrix:\")\n",
    "# print(conf_matrix)\n",
    "# print(\"Classification Report:\")\n",
    "# print(classification_report(y_test, y_pred, zero_division=0))\n",
    "# print(f\"Accuracy: {accuracy}\")\n",
    "\n",
    "# # Save the model and metrics to a pickle file\n",
    "# with open('classifier_model.pkl', 'wb') as file:\n",
    "#     pickle.dump({'model': grid_search, 'conf_matrix': conf_matrix, 'class_report': class_report, 'accuracy': accuracy}, file)\n",
    "\n",
    "# print(\"Model and metrics saved to classifier_model.pkl\")\n"
   ]
  },
  {
   "cell_type": "code",
   "execution_count": null,
   "metadata": {},
   "outputs": [],
   "source": []
  },
  {
   "cell_type": "code",
   "execution_count": 131,
   "metadata": {},
   "outputs": [
    {
     "name": "stdout",
     "output_type": "stream",
     "text": [
      "Predicted Status: Won\n"
     ]
    }
   ],
   "source": [
    "sample_input = pd.DataFrame({\n",
    "    'log_quantity_tons': [np.log(108.8598 + 1)],  # example conversion to log scale\n",
    "    'log_selling_price': [np.log(1175 + 1)],  # example conversion to log scale\n",
    "    'item type': ['S'],  # assuming categorical, needs encoding if the model expects it\n",
    "    'application': [41.0],\n",
    "    'log_thickness_tons': [np.log(1.2+ 1)],  # example conversion to log scale\n",
    "    'width': [1200.0],\n",
    "    'product_ref': [1670798778],\n",
    "    'customer': [30218233],\n",
    "    'country': [39]\n",
    "})\n",
    "# Assuming 'model' is already loaded and is the trained classifier\n",
    "predicted_status = grid_search.predict(sample_input)\n",
    "\n",
    "print(f\"Predicted Status: {predicted_status[0]}\")\n"
   ]
  },
  {
   "cell_type": "code",
   "execution_count": 142,
   "metadata": {},
   "outputs": [
    {
     "data": {
      "text/plain": [
       "status\n",
       "Won     115817\n",
       "Lost     34415\n",
       "Name: count, dtype: int64"
      ]
     },
     "execution_count": 142,
     "metadata": {},
     "output_type": "execute_result"
    }
   ],
   "source": [
    "df_1['status'].value_counts()"
   ]
  },
  {
   "cell_type": "code",
   "execution_count": null,
   "metadata": {},
   "outputs": [],
   "source": [
    "import streamlit as st\n",
    "import pandas as pd\n",
    "import numpy as np\n",
    "import pickle\n",
    "import seaborn as sns\n",
    "import matplotlib.pyplot as plt\n",
    "\n",
    "# Load the trained model and metrics\n",
    "with open('classifier_model.pkl', 'rb') as file:\n",
    "    data = pickle.load(file)\n",
    "    model = data['model']  # Load the model\n",
    "    conf_matrix = data['conf_matrix']  # Load the confusion matrix\n",
    "    accuracy = data['accuracy']  # Load the accuracy\n",
    "    class_report = data['class_report']  # Load the classification report\n",
    "\n",
    "# Define the input fields\n",
    "st.title('Status Classification App')\n",
    "\n",
    "# User input fields for original (non-log-transformed) values\n",
    "selling_price = st.number_input('Selling Price', min_value=0.01, format=\"%.2f\")\n",
    "quantity_tons = st.number_input('Quantity Tons', min_value=0.01, format=\"%.4f\")\n",
    "item_type = st.selectbox('Item Type', ['W', 'L', 'S'])\n",
    "application = st.number_input('Application', min_value=0.01, format=\"%.2f\")\n",
    "thickness_tons = st.number_input('Thickness Tons', min_value=0.01, format=\"%.4f\")\n",
    "width = st.number_input('Width', min_value=1.0, format=\"%.0f\")\n",
    "product_ref = st.number_input('Product Ref', min_value=1.0, format=\"%.0f\")\n",
    "customer = st.number_input('Customer', min_value=1.0, format=\"%.0f\")\n",
    "country = st.number_input('Country', min_value=1.0, format=\"%.0f\")\n",
    "\n",
    "# Convert user inputs to log-transformed values to match the model's training data\n",
    "log_selling_price = np.log(selling_price)\n",
    "log_quantity_tons = np.log(quantity_tons)\n",
    "log_thickness_tons = np.log(thickness_tons)\n",
    "\n",
    "# Create a DataFrame from log-transformed user inputs\n",
    "input_data = pd.DataFrame({\n",
    "    'log_selling_price': [log_selling_price],\n",
    "    'log_quantity_tons': [log_quantity_tons],\n",
    "    'item type': [item_type],\n",
    "    'application': [application],\n",
    "    'log_thickness_tons': [log_thickness_tons],\n",
    "    'width': [width],\n",
    "    'product_ref': [product_ref],\n",
    "    'customer': [customer],\n",
    "    'country': [country]\n",
    "})\n",
    "\n",
    "# Predict button\n",
    "if st.button('Predict'):\n",
    "    st.write(\"Input data being used for prediction:\")\n",
    "    st.write(input_data)  # Display the data being input to the model\n",
    "    prediction = model.predict(input_data)\n",
    "    st.write(f'Predicted Status: {prediction[0]}')\n",
    "\n",
    "    # Display confusion matrix\n",
    "    st.subheader('Confusion Matrix')\n",
    "    fig, ax = plt.subplots()\n",
    "    sns.heatmap(conf_matrix, annot=True, fmt='d', cmap='Blues', ax=ax)\n",
    "    ax.set_xlabel('Predicted')\n",
    "    ax.set_ylabel('Actual')\n",
    "    st.pyplot(fig)\n",
    "\n",
    "    # Display accuracy\n",
    "    st.subheader('Accuracy')\n",
    "    st.write(f\"Accuracy: {accuracy:.2f}%\")\n",
    "\n",
    "    # Display detailed classification metrics\n",
    "    st.subheader('Classification Report')\n",
    "    st.text(class_report)\n"
   ]
  },
  {
   "cell_type": "code",
   "execution_count": null,
   "metadata": {},
   "outputs": [],
   "source": []
  }
 ],
 "metadata": {
  "colab": {
   "provenance": []
  },
  "kernelspec": {
   "display_name": "Python 3 (ipykernel)",
   "language": "python",
   "name": "python3"
  },
  "language_info": {
   "codemirror_mode": {
    "name": "ipython",
    "version": 3
   },
   "file_extension": ".py",
   "mimetype": "text/x-python",
   "name": "python",
   "nbconvert_exporter": "python",
   "pygments_lexer": "ipython3",
   "version": "3.10.5"
  }
 },
 "nbformat": 4,
 "nbformat_minor": 1
}
